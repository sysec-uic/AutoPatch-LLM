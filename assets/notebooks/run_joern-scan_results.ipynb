{
 "cells": [
  {
   "cell_type": "markdown",
   "id": "27188521-3270-49b8-8dab-e8823b8c5ac4",
   "metadata": {},
   "source": [
    "# Contents:\n",
    "1. basic implementation ready for use\n",
    "2. performance testing implementation - returns dictionary with results and execution times\n",
    "3. data exploration <br>\n",
    "\n",
    "To-do: Implement handling for single files."
   ]
  },
  {
   "cell_type": "markdown",
   "id": "74c89c9e-db20-44f6-83ad-906ba50e85a0",
   "metadata": {},
   "source": [
    "# run_joern-scan basic implementation\n",
    "The following implementation of joern-scan is designed to force new cpg generation by default. This behavior can be overridden by passing overwrite=false as the second parameter.<br>\n",
    "First parameter: directory of files to be scanned. <br>\n",
    "Second optional parameter: overwrite=Boolean (default=True). To let joern-scan query against a cache copy of the CPG if available, set to false. <br>\n",
    "Output: Dictionary of result strings parsed from joern-scan ouput. If no vulnerability returns None. **Note:** Only the first vulnerability found in the scan's output will be returned. Later implementation may add the ability to account for multiple vulnerabilities, but return type may need reconsideration. <br>\n",
    "Required libraries: os for directory navigation and subprocess to call joern-scan and handle output."
   ]
  },
  {
   "cell_type": "code",
   "execution_count": 2,
   "id": "c8078c1e-d977-441a-a161-b57f5bc23692",
   "metadata": {},
   "outputs": [],
   "source": [
    "import os\n",
    "import subprocess\n",
    "\n",
    "def run_joern_scan(directory, overwrite=True):\n",
    "    results = {}\n",
    "    \n",
    "    call_scan = ['joern-scan']\n",
    "    \n",
    "    # force joern-scan to generate a new cpg\n",
    "    if overwrite:\n",
    "        call_scan.append('--overwrite')\n",
    "\n",
    "    for filename in os.listdir(directory):\n",
    "        filepath = os.path.join(directory, filename)\n",
    "\n",
    "        if os.path.isfile(filepath):\n",
    "\n",
    "            try:\n",
    "                process = subprocess.run(\n",
    "                    call_scan + [filepath],\n",
    "                    stdout=subprocess.PIPE,\n",
    "                    stderr=subprocess.PIPE,\n",
    "                    text=True\n",
    "                )\n",
    "\n",
    "                output = process.stdout + process.stderr\n",
    "                result_line = None\n",
    "                for line in output.splitlines():\n",
    "                    if line.startswith(\"Result:\"):\n",
    "                        result_line = line\n",
    "                        break\n",
    "\n",
    "                results[filename] = result_line\n",
    "\n",
    "                \n",
    "                print(f'processed {filename}: {result_line}')\n",
    "\n",
    "            except Exception as e:\n",
    "                print(f'error processing {filename}: {e}')\n",
    "                results[filename] = {\n",
    "                    'result': None,\n",
    "                    'error': str(e)\n",
    "                }\n",
    "    return results"
   ]
  },
  {
   "cell_type": "markdown",
   "id": "94a81fa4-d924-4f5f-9dc3-0987d028ec6d",
   "metadata": {},
   "source": [
    "## An example call to the function:"
   ]
  },
  {
   "cell_type": "code",
   "execution_count": 4,
   "id": "8bc4fdb8-a5d0-4a08-add6-d1c9b698ee07",
   "metadata": {},
   "outputs": [
    {
     "name": "stdout",
     "output_type": "stream",
     "text": [
      "processed fstring1_f.c: Result: 4.0 : Non-constant format string passed to printf/sprintf/vsprintf: fstring1_f.c:24:main\n",
      "processed fstring3.c: Result: 4.0 : Non-constant format string passed to printf/sprintf/vsprintf: fstring3.c:37:open_whatever\n",
      "processed boflow4_f.c: None\n",
      "processed boflow2.c: Result: 8.0 : Dangerous function gets() used: boflow2.c:8:main\n",
      "processed complex1_f.c: Result: 4.0 : Non-constant format string passed to printf/sprintf/vsprintf: complex1_f.c:24:main\n",
      "processed boflow5.c: None\n",
      "processed complex4.c: Result: 4.0 : Non-constant format string passed to printf/sprintf/vsprintf: complex4.c:24:processData\n",
      "processed fstring2.c: Result: 4.0 : Non-constant format string passed to printf/sprintf/vsprintf: fstring2.c:18:read_file\n",
      "processed boflow6_f.c: Result: 3.0 : Unchecked read/recv/malloc: boflow6_f.c:47:main\n",
      "processed boflow1.c: Result: 8.0 : Dangerous function gets() used: boflow1.c:8:get_input\n",
      "processed fstring4.c: Result: 3.0 : Unchecked read/recv/malloc: fstring4.c:28:main\n",
      "processed boflow3_f.c: Result: 8.0 : Dangerous function gets() used: boflow3_f.c:24:main\n",
      "processed complex3.c: Result: 4.0 : Non-constant format string passed to printf/sprintf/vsprintf: complex3.c:10:main\n",
      "processed complex2.c: Result: 4.0 : Non-constant format string passed to printf/sprintf/vsprintf: complex2.c:10:main\n",
      "processed boflow7.c: None\n"
     ]
    }
   ],
   "source": [
    "code_path = \"/home/a_prufrock/vuln_progs_and_patches/buggy_and_patched/codebase/\"\n",
    "\n",
    "scan_result = run_joern_scan(code_path)\n"
   ]
  },
  {
   "cell_type": "markdown",
   "id": "69c04f65",
   "metadata": {},
   "source": [
    "# run_joern-scan performance implementation\n",
    "\n",
    "The primary difference with this original implementation is that the overwrite flag is False by default instead. Also execution time is recorded for each query and included in the return dictionary for performance analysis."
   ]
  },
  {
   "cell_type": "code",
   "execution_count": 1,
   "id": "02b6b16e",
   "metadata": {},
   "outputs": [],
   "source": [
    "import pandas as pd\n",
    "import os\n",
    "import subprocess\n",
    "import time\n",
    "import seaborn as sns\n",
    "import matplotlib.pyplot as plt\n",
    "# May need to install pandas, matplotlib, numpy\n",
    "#Installing collected packages: tzdata, numpy, pandas\n",
    "#Successfully installed numpy-1.24.4 pandas-2.0.3 tzdata-2025.1\n",
    "code_vuln_path = \"/home/a_prufrock/vuln_progs_and_patches/buggy_and_patched/codebase/\"\n",
    "code_fixd_path = \"/home/a_prufrock/vuln_progs_and_patches/buggy_and_patched/patched_codes/\"\n"
   ]
  },
  {
   "cell_type": "code",
   "execution_count": 4,
   "id": "8d12b23d-dd43-44b7-80e0-cbf55ae49aed",
   "metadata": {},
   "outputs": [
    {
     "name": "stdout",
     "output_type": "stream",
     "text": [
      "Writing logs to: /tmp/joern-scan-log.txt\n",
      "Creates a code property graph and scans it with queries from installed bundles.\n",
      "Version: `4.0.247`\n",
      "Usage: joern-scan [options] [src]\n",
      "\n",
      "  --help               Prints this usage text\n",
      "  src                  source code directory to scan\n",
      "  --overwrite          Overwrite CPG if it already exists\n",
      "  --store              Store graph changes made by scanner\n",
      "  --dump               Dump available queries to a file at `/tmp/querydb.json`\n",
      "  --dump-to <value>    Dump available queries to a specific file\n",
      "  --list-query-names   Print a list of available query names\n",
      "  --updatedb           Update query database\n",
      "  --dbversion <value>  Version of query database `updatedb`-operation installs\n",
      "  --names <value>      Filter queries used for scanning by name, comma-separated string\n",
      "  --tags <value>       Filter queries used for scanning by tags, comma-separated string\n",
      "  --depth <value>      Set call depth for interprocedural analysis\n",
      "  --language <value>   Source language\n",
      "  --list-languages     List available language options\n",
      "Args specified after the --frontend-args separator will be passed to the front-end verbatim\n"
     ]
    }
   ],
   "source": [
    "!joern-scan"
   ]
  },
  {
   "cell_type": "code",
   "execution_count": 12,
   "id": "d692a59a-548a-4368-9905-f0f93f167727",
   "metadata": {},
   "outputs": [],
   "source": [
    "results = {}"
   ]
  },
  {
   "cell_type": "code",
   "execution_count": 13,
   "id": "18d6e745-e353-4e13-9865-aa97c39f21b2",
   "metadata": {},
   "outputs": [],
   "source": [
    "code_test_path = \"/home/a_prufrock/vuln_progs_and_patches/buggy_and_patched/codebase/test/\""
   ]
  },
  {
   "cell_type": "markdown",
   "id": "b9af7d4a-71f7-4a75-b984-eec1ca95eba9",
   "metadata": {},
   "source": [
    "## Test run"
   ]
  },
  {
   "cell_type": "code",
   "execution_count": 15,
   "id": "2ce4386b-30f4-4c4c-aee4-00654bce80cb",
   "metadata": {},
   "outputs": [
    {
     "name": "stdout",
     "output_type": "stream",
     "text": [
      "processed boflow2.c: Result: 8.0 : Dangerous function gets() used: boflow2.c:8:main\n",
      "processed boflow1.c: Result: 8.0 : Dangerous function gets() used: boflow1.c:8:get_input\n"
     ]
    }
   ],
   "source": [
    "for file in os.listdir(code_test_path):\n",
    "    filepath = os.path.join(code_vuln_path, file)\n",
    "\n",
    "    if os.path.isfile(filepath):\n",
    "\n",
    "        time_start = time.perf_counter()\n",
    "        try:\n",
    "            process = subprocess.run(\n",
    "                ['joern-scan', filepath],\n",
    "                stdout=subprocess.PIPE,\n",
    "                stderr=subprocess.PIPE,\n",
    "                text=True\n",
    "            )\n",
    "\n",
    "            time_end = time.perf_counter()\n",
    "            time_elapsed = time_end - time_start\n",
    "\n",
    "            output = process.stdout + process.stderr\n",
    "            result_line = None\n",
    "            for line in output.splitlines():\n",
    "                if line.startswith(\"Result:\"):\n",
    "                    if result_line != None: # lookout for multiple 'result_line's\n",
    "                        print(\"more than one result found!\")\n",
    "                        print(f'result_line = {result_line}')\n",
    "                        print(f'line = {line}')\n",
    "                    else:\n",
    "                        result_line = line\n",
    "\n",
    "            results[file] = result_line\n",
    "\n",
    "            print(f'processed {file}: {result_line}')\n",
    "\n",
    "        except Exception as e:\n",
    "            print(f'error processing {file}: {e}')\n",
    "                        \n",
    "    "
   ]
  },
  {
   "cell_type": "markdown",
   "id": "7daa80d4-e9d5-437b-b9d2-b97f309ce42b",
   "metadata": {},
   "source": [
    "## run_joern-scan function "
   ]
  },
  {
   "cell_type": "code",
   "execution_count": 16,
   "id": "dc2460e1-6010-4230-8225-f6ce74f1fc80",
   "metadata": {},
   "outputs": [],
   "source": [
    "def run_joern_scan(directory, overwrite=False):\n",
    "    results = {}\n",
    "    call_scan = ['joern-scan']\n",
    "    # force joern-scan to generate a new cpg\n",
    "    if overwrite:\n",
    "        call_scan.append('--overwrite')\n",
    "\n",
    "    for filename in os.listdir(directory):\n",
    "        filepath = os.path.join(directory, filename)\n",
    "\n",
    "        if os.path.isfile(filepath):\n",
    "\n",
    "            time_start = time.perf_counter()\n",
    "            try:\n",
    "                process = subprocess.run(\n",
    "                    call_scan + [filepath],\n",
    "                    stdout=subprocess.PIPE,\n",
    "                    stderr=subprocess.PIPE,\n",
    "                    text=True\n",
    "                )\n",
    "\n",
    "                time_end = time.perf_counter()\n",
    "                time_elapsed = time_end - time_start\n",
    "\n",
    "                output = process.stdout + process.stderr\n",
    "                result_line = None\n",
    "                for line in output.splitlines():\n",
    "                    if line.startswith(\"Result:\"):\n",
    "                        if result_line != None: # lookout for multiple 'result_line's\n",
    "                            print(\"more than one result found!\")\n",
    "                            print(f'result_line = {result_line}')\n",
    "                            print(f'line = {line}')\n",
    "                        else:\n",
    "                            result_line = line\n",
    "\n",
    "                results[filename] = {\n",
    "                    'result:': result_line,\n",
    "                    'execution_time': time_elapsed\n",
    "                }\n",
    "\n",
    "                print(f'processed {filename} in {time_elapsed:.4f} seconds: {result_line}')\n",
    "\n",
    "            except Exception as e:\n",
    "                print(f'error processing {filename}: {e}')\n",
    "                results[filename] = {\n",
    "                    'result': None,\n",
    "                    'execution-time': None,\n",
    "                    'error': str(e)\n",
    "                }\n",
    "    return results"
   ]
  },
  {
   "cell_type": "markdown",
   "id": "936f8635-d53c-459a-b273-33b495334318",
   "metadata": {},
   "source": [
    "## Performance analysis initializes query against all directories in list:\n",
    "1. Once for initialization\n",
    "2. Four times to test queries against cached CPG\n",
    "3. Four times to test queries against regenerated CPG <br>\n",
    "Results added to pandas dataframe for analysis"
   ]
  },
  {
   "cell_type": "code",
   "execution_count": 36,
   "id": "2ff3b795-7ba0-4288-9fea-f5527a2fb05c",
   "metadata": {},
   "outputs": [
    {
     "name": "stdout",
     "output_type": "stream",
     "text": [
      "scanning /home/a_prufrock/vuln_progs_and_patches/buggy_and_patched/codebase/, run 1\n",
      "processed fstring1_f.c in 8.4655 seconds: Result: 4.0 : Non-constant format string passed to printf/sprintf/vsprintf: fstring1_f.c:24:main\n",
      "processed fstring3.c in 8.7365 seconds: Result: 4.0 : Non-constant format string passed to printf/sprintf/vsprintf: fstring3.c:37:open_whatever\n",
      "processed boflow4_f.c in 8.7152 seconds: None\n",
      "processed boflow2.c in 6.6017 seconds: Result: 8.0 : Dangerous function gets() used: boflow2.c:8:main\n",
      "processed complex1_f.c in 8.6203 seconds: Result: 4.0 : Non-constant format string passed to printf/sprintf/vsprintf: complex1_f.c:24:main\n",
      "processed boflow5.c in 8.5986 seconds: None\n",
      "processed complex4.c in 8.4393 seconds: Result: 4.0 : Non-constant format string passed to printf/sprintf/vsprintf: complex4.c:24:processData\n",
      "processed fstring2.c in 8.7143 seconds: Result: 4.0 : Non-constant format string passed to printf/sprintf/vsprintf: fstring2.c:18:read_file\n",
      "processed boflow6_f.c in 8.8358 seconds: Result: 3.0 : Unchecked read/recv/malloc: boflow6_f.c:47:main\n",
      "processed boflow1.c in 6.6544 seconds: Result: 8.0 : Dangerous function gets() used: boflow1.c:8:get_input\n",
      "more than one result found!\n",
      "result_line = Result: 3.0 : Unchecked read/recv/malloc: fstring4.c:28:main\n",
      "line = Result: 3.0 : Unchecked read/recv/malloc: fstring4.c:31:main\n",
      "more than one result found!\n",
      "result_line = Result: 3.0 : Unchecked read/recv/malloc: fstring4.c:28:main\n",
      "line = Result: 3.0 : Unchecked read/recv/malloc: fstring4.c:34:main\n",
      "more than one result found!\n",
      "result_line = Result: 3.0 : Unchecked read/recv/malloc: fstring4.c:28:main\n",
      "line = Result: 4.0 : Non-constant format string passed to printf/sprintf/vsprintf: fstring4.c:19:welcome_user\n",
      "processed fstring4.c in 8.5856 seconds: Result: 3.0 : Unchecked read/recv/malloc: fstring4.c:28:main\n",
      "processed boflow3_f.c in 8.3449 seconds: Result: 8.0 : Dangerous function gets() used: boflow3_f.c:24:main\n",
      "processed complex3.c in 8.3853 seconds: Result: 4.0 : Non-constant format string passed to printf/sprintf/vsprintf: complex3.c:10:main\n",
      "processed complex2.c in 8.3218 seconds: Result: 4.0 : Non-constant format string passed to printf/sprintf/vsprintf: complex2.c:10:main\n",
      "processed boflow7.c in 8.5950 seconds: None\n",
      "scanning /home/a_prufrock/vuln_progs_and_patches/buggy_and_patched/codebase/, run 2\n",
      "processed fstring1_f.c in 6.6686 seconds: Result: 4.0 : Non-constant format string passed to printf/sprintf/vsprintf: fstring1_f.c:24:main\n",
      "processed fstring3.c in 6.8022 seconds: Result: 4.0 : Non-constant format string passed to printf/sprintf/vsprintf: fstring3.c:37:open_whatever\n",
      "processed boflow4_f.c in 6.5139 seconds: None\n",
      "processed boflow2.c in 6.6432 seconds: Result: 8.0 : Dangerous function gets() used: boflow2.c:8:main\n",
      "processed complex1_f.c in 6.6362 seconds: Result: 4.0 : Non-constant format string passed to printf/sprintf/vsprintf: complex1_f.c:24:main\n",
      "processed boflow5.c in 6.6674 seconds: None\n",
      "processed complex4.c in 6.5502 seconds: Result: 4.0 : Non-constant format string passed to printf/sprintf/vsprintf: complex4.c:24:processData\n",
      "processed fstring2.c in 6.7597 seconds: Result: 4.0 : Non-constant format string passed to printf/sprintf/vsprintf: fstring2.c:18:read_file\n",
      "processed boflow6_f.c in 6.7627 seconds: Result: 3.0 : Unchecked read/recv/malloc: boflow6_f.c:47:main\n",
      "processed boflow1.c in 6.5038 seconds: Result: 8.0 : Dangerous function gets() used: boflow1.c:8:get_input\n",
      "more than one result found!\n",
      "result_line = Result: 3.0 : Unchecked read/recv/malloc: fstring4.c:28:main\n",
      "line = Result: 3.0 : Unchecked read/recv/malloc: fstring4.c:31:main\n",
      "more than one result found!\n",
      "result_line = Result: 3.0 : Unchecked read/recv/malloc: fstring4.c:28:main\n",
      "line = Result: 3.0 : Unchecked read/recv/malloc: fstring4.c:34:main\n",
      "more than one result found!\n",
      "result_line = Result: 3.0 : Unchecked read/recv/malloc: fstring4.c:28:main\n",
      "line = Result: 4.0 : Non-constant format string passed to printf/sprintf/vsprintf: fstring4.c:19:welcome_user\n",
      "processed fstring4.c in 6.7057 seconds: Result: 3.0 : Unchecked read/recv/malloc: fstring4.c:28:main\n",
      "processed boflow3_f.c in 6.6867 seconds: Result: 8.0 : Dangerous function gets() used: boflow3_f.c:24:main\n",
      "processed complex3.c in 6.6908 seconds: Result: 4.0 : Non-constant format string passed to printf/sprintf/vsprintf: complex3.c:10:main\n",
      "processed complex2.c in 6.7105 seconds: Result: 4.0 : Non-constant format string passed to printf/sprintf/vsprintf: complex2.c:10:main\n",
      "processed boflow7.c in 6.6865 seconds: None\n",
      "scanning /home/a_prufrock/vuln_progs_and_patches/buggy_and_patched/codebase/, run 3\n",
      "processed fstring1_f.c in 6.5655 seconds: Result: 4.0 : Non-constant format string passed to printf/sprintf/vsprintf: fstring1_f.c:24:main\n",
      "processed fstring3.c in 6.8450 seconds: Result: 4.0 : Non-constant format string passed to printf/sprintf/vsprintf: fstring3.c:37:open_whatever\n",
      "processed boflow4_f.c in 6.7371 seconds: None\n",
      "processed boflow2.c in 6.6314 seconds: Result: 8.0 : Dangerous function gets() used: boflow2.c:8:main\n",
      "processed complex1_f.c in 6.6707 seconds: Result: 4.0 : Non-constant format string passed to printf/sprintf/vsprintf: complex1_f.c:24:main\n",
      "processed boflow5.c in 6.5256 seconds: None\n",
      "processed complex4.c in 6.6503 seconds: Result: 4.0 : Non-constant format string passed to printf/sprintf/vsprintf: complex4.c:24:processData\n",
      "processed fstring2.c in 6.8295 seconds: Result: 4.0 : Non-constant format string passed to printf/sprintf/vsprintf: fstring2.c:18:read_file\n",
      "processed boflow6_f.c in 6.7971 seconds: Result: 3.0 : Unchecked read/recv/malloc: boflow6_f.c:47:main\n",
      "processed boflow1.c in 6.5152 seconds: Result: 8.0 : Dangerous function gets() used: boflow1.c:8:get_input\n",
      "more than one result found!\n",
      "result_line = Result: 3.0 : Unchecked read/recv/malloc: fstring4.c:28:main\n",
      "line = Result: 3.0 : Unchecked read/recv/malloc: fstring4.c:31:main\n",
      "more than one result found!\n",
      "result_line = Result: 3.0 : Unchecked read/recv/malloc: fstring4.c:28:main\n",
      "line = Result: 3.0 : Unchecked read/recv/malloc: fstring4.c:34:main\n",
      "more than one result found!\n",
      "result_line = Result: 3.0 : Unchecked read/recv/malloc: fstring4.c:28:main\n",
      "line = Result: 4.0 : Non-constant format string passed to printf/sprintf/vsprintf: fstring4.c:19:welcome_user\n",
      "processed fstring4.c in 6.6682 seconds: Result: 3.0 : Unchecked read/recv/malloc: fstring4.c:28:main\n",
      "processed boflow3_f.c in 6.5511 seconds: Result: 8.0 : Dangerous function gets() used: boflow3_f.c:24:main\n",
      "processed complex3.c in 6.6947 seconds: Result: 4.0 : Non-constant format string passed to printf/sprintf/vsprintf: complex3.c:10:main\n",
      "processed complex2.c in 6.6242 seconds: Result: 4.0 : Non-constant format string passed to printf/sprintf/vsprintf: complex2.c:10:main\n",
      "processed boflow7.c in 6.5933 seconds: None\n",
      "scanning /home/a_prufrock/vuln_progs_and_patches/buggy_and_patched/codebase/, run 4\n",
      "processed fstring1_f.c in 6.6664 seconds: Result: 4.0 : Non-constant format string passed to printf/sprintf/vsprintf: fstring1_f.c:24:main\n",
      "processed fstring3.c in 6.7225 seconds: Result: 4.0 : Non-constant format string passed to printf/sprintf/vsprintf: fstring3.c:37:open_whatever\n",
      "processed boflow4_f.c in 6.6918 seconds: None\n",
      "processed boflow2.c in 6.5519 seconds: Result: 8.0 : Dangerous function gets() used: boflow2.c:8:main\n",
      "processed complex1_f.c in 6.7466 seconds: Result: 4.0 : Non-constant format string passed to printf/sprintf/vsprintf: complex1_f.c:24:main\n",
      "processed boflow5.c in 6.4377 seconds: None\n",
      "processed complex4.c in 6.8813 seconds: Result: 4.0 : Non-constant format string passed to printf/sprintf/vsprintf: complex4.c:24:processData\n",
      "processed fstring2.c in 6.6886 seconds: Result: 4.0 : Non-constant format string passed to printf/sprintf/vsprintf: fstring2.c:18:read_file\n",
      "processed boflow6_f.c in 6.5756 seconds: Result: 3.0 : Unchecked read/recv/malloc: boflow6_f.c:47:main\n",
      "processed boflow1.c in 6.6025 seconds: Result: 8.0 : Dangerous function gets() used: boflow1.c:8:get_input\n",
      "more than one result found!\n",
      "result_line = Result: 3.0 : Unchecked read/recv/malloc: fstring4.c:28:main\n",
      "line = Result: 3.0 : Unchecked read/recv/malloc: fstring4.c:31:main\n",
      "more than one result found!\n",
      "result_line = Result: 3.0 : Unchecked read/recv/malloc: fstring4.c:28:main\n",
      "line = Result: 3.0 : Unchecked read/recv/malloc: fstring4.c:34:main\n",
      "more than one result found!\n",
      "result_line = Result: 3.0 : Unchecked read/recv/malloc: fstring4.c:28:main\n",
      "line = Result: 4.0 : Non-constant format string passed to printf/sprintf/vsprintf: fstring4.c:19:welcome_user\n",
      "processed fstring4.c in 6.5542 seconds: Result: 3.0 : Unchecked read/recv/malloc: fstring4.c:28:main\n",
      "processed boflow3_f.c in 6.7165 seconds: Result: 8.0 : Dangerous function gets() used: boflow3_f.c:24:main\n",
      "processed complex3.c in 6.7978 seconds: Result: 4.0 : Non-constant format string passed to printf/sprintf/vsprintf: complex3.c:10:main\n",
      "processed complex2.c in 6.5182 seconds: Result: 4.0 : Non-constant format string passed to printf/sprintf/vsprintf: complex2.c:10:main\n",
      "processed boflow7.c in 6.7234 seconds: None\n",
      "scanning /home/a_prufrock/vuln_progs_and_patches/buggy_and_patched/codebase/, run 5\n",
      "processed fstring1_f.c in 6.6331 seconds: Result: 4.0 : Non-constant format string passed to printf/sprintf/vsprintf: fstring1_f.c:24:main\n",
      "processed fstring3.c in 6.6317 seconds: Result: 4.0 : Non-constant format string passed to printf/sprintf/vsprintf: fstring3.c:37:open_whatever\n",
      "processed boflow4_f.c in 6.6400 seconds: None\n",
      "processed boflow2.c in 6.8945 seconds: Result: 8.0 : Dangerous function gets() used: boflow2.c:8:main\n",
      "processed complex1_f.c in 6.6594 seconds: Result: 4.0 : Non-constant format string passed to printf/sprintf/vsprintf: complex1_f.c:24:main\n",
      "processed boflow5.c in 6.7765 seconds: None\n",
      "processed complex4.c in 6.7634 seconds: Result: 4.0 : Non-constant format string passed to printf/sprintf/vsprintf: complex4.c:24:processData\n",
      "processed fstring2.c in 6.4114 seconds: Result: 4.0 : Non-constant format string passed to printf/sprintf/vsprintf: fstring2.c:18:read_file\n",
      "processed boflow6_f.c in 6.5678 seconds: Result: 3.0 : Unchecked read/recv/malloc: boflow6_f.c:47:main\n",
      "processed boflow1.c in 6.9009 seconds: Result: 8.0 : Dangerous function gets() used: boflow1.c:8:get_input\n",
      "more than one result found!\n",
      "result_line = Result: 3.0 : Unchecked read/recv/malloc: fstring4.c:28:main\n",
      "line = Result: 3.0 : Unchecked read/recv/malloc: fstring4.c:31:main\n",
      "more than one result found!\n",
      "result_line = Result: 3.0 : Unchecked read/recv/malloc: fstring4.c:28:main\n",
      "line = Result: 3.0 : Unchecked read/recv/malloc: fstring4.c:34:main\n",
      "more than one result found!\n",
      "result_line = Result: 3.0 : Unchecked read/recv/malloc: fstring4.c:28:main\n",
      "line = Result: 4.0 : Non-constant format string passed to printf/sprintf/vsprintf: fstring4.c:19:welcome_user\n",
      "processed fstring4.c in 6.8259 seconds: Result: 3.0 : Unchecked read/recv/malloc: fstring4.c:28:main\n",
      "processed boflow3_f.c in 6.6693 seconds: Result: 8.0 : Dangerous function gets() used: boflow3_f.c:24:main\n",
      "processed complex3.c in 6.6279 seconds: Result: 4.0 : Non-constant format string passed to printf/sprintf/vsprintf: complex3.c:10:main\n",
      "processed complex2.c in 6.4870 seconds: Result: 4.0 : Non-constant format string passed to printf/sprintf/vsprintf: complex2.c:10:main\n",
      "processed boflow7.c in 6.6235 seconds: None\n",
      "scanning /home/a_prufrock/vuln_progs_and_patches/buggy_and_patched/codebase/, run 6\n",
      "processed fstring1_f.c in 8.5512 seconds: Result: 4.0 : Non-constant format string passed to printf/sprintf/vsprintf: fstring1_f.c:24:main\n",
      "processed fstring3.c in 8.7044 seconds: Result: 4.0 : Non-constant format string passed to printf/sprintf/vsprintf: fstring3.c:37:open_whatever\n",
      "processed boflow4_f.c in 8.6003 seconds: None\n",
      "processed boflow2.c in 8.4398 seconds: Result: 8.0 : Dangerous function gets() used: boflow2.c:8:main\n",
      "processed complex1_f.c in 8.5608 seconds: Result: 4.0 : Non-constant format string passed to printf/sprintf/vsprintf: complex1_f.c:24:main\n",
      "processed boflow5.c in 8.3153 seconds: None\n",
      "processed complex4.c in 8.6514 seconds: Result: 4.0 : Non-constant format string passed to printf/sprintf/vsprintf: complex4.c:24:processData\n",
      "processed fstring2.c in 8.6275 seconds: Result: 4.0 : Non-constant format string passed to printf/sprintf/vsprintf: fstring2.c:18:read_file\n",
      "processed boflow6_f.c in 8.5944 seconds: Result: 3.0 : Unchecked read/recv/malloc: boflow6_f.c:47:main\n",
      "processed boflow1.c in 8.4770 seconds: Result: 8.0 : Dangerous function gets() used: boflow1.c:8:get_input\n",
      "more than one result found!\n",
      "result_line = Result: 3.0 : Unchecked read/recv/malloc: fstring4.c:28:main\n",
      "line = Result: 3.0 : Unchecked read/recv/malloc: fstring4.c:31:main\n",
      "more than one result found!\n",
      "result_line = Result: 3.0 : Unchecked read/recv/malloc: fstring4.c:28:main\n",
      "line = Result: 3.0 : Unchecked read/recv/malloc: fstring4.c:34:main\n",
      "more than one result found!\n",
      "result_line = Result: 3.0 : Unchecked read/recv/malloc: fstring4.c:28:main\n",
      "line = Result: 4.0 : Non-constant format string passed to printf/sprintf/vsprintf: fstring4.c:19:welcome_user\n",
      "processed fstring4.c in 8.4570 seconds: Result: 3.0 : Unchecked read/recv/malloc: fstring4.c:28:main\n",
      "processed boflow3_f.c in 8.4957 seconds: Result: 8.0 : Dangerous function gets() used: boflow3_f.c:24:main\n",
      "processed complex3.c in 8.2324 seconds: Result: 4.0 : Non-constant format string passed to printf/sprintf/vsprintf: complex3.c:10:main\n",
      "processed complex2.c in 8.5105 seconds: Result: 4.0 : Non-constant format string passed to printf/sprintf/vsprintf: complex2.c:10:main\n",
      "processed boflow7.c in 8.2621 seconds: None\n",
      "scanning /home/a_prufrock/vuln_progs_and_patches/buggy_and_patched/codebase/, run 7\n",
      "processed fstring1_f.c in 8.4965 seconds: Result: 4.0 : Non-constant format string passed to printf/sprintf/vsprintf: fstring1_f.c:24:main\n",
      "processed fstring3.c in 8.6819 seconds: Result: 4.0 : Non-constant format string passed to printf/sprintf/vsprintf: fstring3.c:37:open_whatever\n",
      "processed boflow4_f.c in 8.3968 seconds: None\n",
      "processed boflow2.c in 8.3442 seconds: Result: 8.0 : Dangerous function gets() used: boflow2.c:8:main\n",
      "processed complex1_f.c in 8.6419 seconds: Result: 4.0 : Non-constant format string passed to printf/sprintf/vsprintf: complex1_f.c:24:main\n",
      "processed boflow5.c in 8.3388 seconds: None\n",
      "processed complex4.c in 8.7011 seconds: Result: 4.0 : Non-constant format string passed to printf/sprintf/vsprintf: complex4.c:24:processData\n",
      "processed fstring2.c in 8.5428 seconds: Result: 4.0 : Non-constant format string passed to printf/sprintf/vsprintf: fstring2.c:18:read_file\n",
      "processed boflow6_f.c in 8.7786 seconds: Result: 3.0 : Unchecked read/recv/malloc: boflow6_f.c:47:main\n",
      "processed boflow1.c in 8.5550 seconds: Result: 8.0 : Dangerous function gets() used: boflow1.c:8:get_input\n",
      "more than one result found!\n",
      "result_line = Result: 3.0 : Unchecked read/recv/malloc: fstring4.c:28:main\n",
      "line = Result: 3.0 : Unchecked read/recv/malloc: fstring4.c:31:main\n",
      "more than one result found!\n",
      "result_line = Result: 3.0 : Unchecked read/recv/malloc: fstring4.c:28:main\n",
      "line = Result: 3.0 : Unchecked read/recv/malloc: fstring4.c:34:main\n",
      "more than one result found!\n",
      "result_line = Result: 3.0 : Unchecked read/recv/malloc: fstring4.c:28:main\n",
      "line = Result: 4.0 : Non-constant format string passed to printf/sprintf/vsprintf: fstring4.c:19:welcome_user\n",
      "processed fstring4.c in 8.6466 seconds: Result: 3.0 : Unchecked read/recv/malloc: fstring4.c:28:main\n",
      "processed boflow3_f.c in 8.6545 seconds: Result: 8.0 : Dangerous function gets() used: boflow3_f.c:24:main\n",
      "processed complex3.c in 8.6194 seconds: Result: 4.0 : Non-constant format string passed to printf/sprintf/vsprintf: complex3.c:10:main\n",
      "processed complex2.c in 8.4871 seconds: Result: 4.0 : Non-constant format string passed to printf/sprintf/vsprintf: complex2.c:10:main\n",
      "processed boflow7.c in 8.6760 seconds: None\n",
      "scanning /home/a_prufrock/vuln_progs_and_patches/buggy_and_patched/codebase/, run 8\n",
      "processed fstring1_f.c in 8.7191 seconds: Result: 4.0 : Non-constant format string passed to printf/sprintf/vsprintf: fstring1_f.c:24:main\n",
      "processed fstring3.c in 8.7244 seconds: Result: 4.0 : Non-constant format string passed to printf/sprintf/vsprintf: fstring3.c:37:open_whatever\n",
      "processed boflow4_f.c in 8.4705 seconds: None\n",
      "processed boflow2.c in 8.4969 seconds: Result: 8.0 : Dangerous function gets() used: boflow2.c:8:main\n",
      "processed complex1_f.c in 8.5183 seconds: Result: 4.0 : Non-constant format string passed to printf/sprintf/vsprintf: complex1_f.c:24:main\n",
      "processed boflow5.c in 8.5256 seconds: None\n",
      "processed complex4.c in 8.5114 seconds: Result: 4.0 : Non-constant format string passed to printf/sprintf/vsprintf: complex4.c:24:processData\n",
      "processed fstring2.c in 8.6504 seconds: Result: 4.0 : Non-constant format string passed to printf/sprintf/vsprintf: fstring2.c:18:read_file\n",
      "processed boflow6_f.c in 8.5787 seconds: Result: 3.0 : Unchecked read/recv/malloc: boflow6_f.c:47:main\n",
      "processed boflow1.c in 8.3768 seconds: Result: 8.0 : Dangerous function gets() used: boflow1.c:8:get_input\n",
      "more than one result found!\n",
      "result_line = Result: 3.0 : Unchecked read/recv/malloc: fstring4.c:28:main\n",
      "line = Result: 3.0 : Unchecked read/recv/malloc: fstring4.c:31:main\n",
      "more than one result found!\n",
      "result_line = Result: 3.0 : Unchecked read/recv/malloc: fstring4.c:28:main\n",
      "line = Result: 3.0 : Unchecked read/recv/malloc: fstring4.c:34:main\n",
      "more than one result found!\n",
      "result_line = Result: 3.0 : Unchecked read/recv/malloc: fstring4.c:28:main\n",
      "line = Result: 4.0 : Non-constant format string passed to printf/sprintf/vsprintf: fstring4.c:19:welcome_user\n",
      "processed fstring4.c in 8.6334 seconds: Result: 3.0 : Unchecked read/recv/malloc: fstring4.c:28:main\n",
      "processed boflow3_f.c in 8.5530 seconds: Result: 8.0 : Dangerous function gets() used: boflow3_f.c:24:main\n",
      "processed complex3.c in 8.2952 seconds: Result: 4.0 : Non-constant format string passed to printf/sprintf/vsprintf: complex3.c:10:main\n",
      "processed complex2.c in 8.4148 seconds: Result: 4.0 : Non-constant format string passed to printf/sprintf/vsprintf: complex2.c:10:main\n",
      "processed boflow7.c in 8.5683 seconds: None\n",
      "scanning /home/a_prufrock/vuln_progs_and_patches/buggy_and_patched/codebase/, run 9\n",
      "processed fstring1_f.c in 8.4564 seconds: Result: 4.0 : Non-constant format string passed to printf/sprintf/vsprintf: fstring1_f.c:24:main\n",
      "processed fstring3.c in 8.7675 seconds: Result: 4.0 : Non-constant format string passed to printf/sprintf/vsprintf: fstring3.c:37:open_whatever\n",
      "processed boflow4_f.c in 8.5200 seconds: None\n",
      "processed boflow2.c in 8.3297 seconds: Result: 8.0 : Dangerous function gets() used: boflow2.c:8:main\n",
      "processed complex1_f.c in 8.4202 seconds: Result: 4.0 : Non-constant format string passed to printf/sprintf/vsprintf: complex1_f.c:24:main\n",
      "processed boflow5.c in 8.2540 seconds: None\n",
      "processed complex4.c in 8.4111 seconds: Result: 4.0 : Non-constant format string passed to printf/sprintf/vsprintf: complex4.c:24:processData\n",
      "processed fstring2.c in 8.6792 seconds: Result: 4.0 : Non-constant format string passed to printf/sprintf/vsprintf: fstring2.c:18:read_file\n",
      "processed boflow6_f.c in 8.7580 seconds: Result: 3.0 : Unchecked read/recv/malloc: boflow6_f.c:47:main\n",
      "processed boflow1.c in 8.3292 seconds: Result: 8.0 : Dangerous function gets() used: boflow1.c:8:get_input\n",
      "more than one result found!\n",
      "result_line = Result: 3.0 : Unchecked read/recv/malloc: fstring4.c:28:main\n",
      "line = Result: 3.0 : Unchecked read/recv/malloc: fstring4.c:31:main\n",
      "more than one result found!\n",
      "result_line = Result: 3.0 : Unchecked read/recv/malloc: fstring4.c:28:main\n",
      "line = Result: 3.0 : Unchecked read/recv/malloc: fstring4.c:34:main\n",
      "more than one result found!\n",
      "result_line = Result: 3.0 : Unchecked read/recv/malloc: fstring4.c:28:main\n",
      "line = Result: 4.0 : Non-constant format string passed to printf/sprintf/vsprintf: fstring4.c:19:welcome_user\n",
      "processed fstring4.c in 8.4799 seconds: Result: 3.0 : Unchecked read/recv/malloc: fstring4.c:28:main\n",
      "processed boflow3_f.c in 8.4561 seconds: Result: 8.0 : Dangerous function gets() used: boflow3_f.c:24:main\n",
      "processed complex3.c in 8.5681 seconds: Result: 4.0 : Non-constant format string passed to printf/sprintf/vsprintf: complex3.c:10:main\n",
      "processed complex2.c in 8.4425 seconds: Result: 4.0 : Non-constant format string passed to printf/sprintf/vsprintf: complex2.c:10:main\n",
      "processed boflow7.c in 8.3453 seconds: None\n",
      "scanning /home/a_prufrock/vuln_progs_and_patches/buggy_and_patched/patched_codes/, run 1\n",
      "processed fstring1_f.c in 6.1001 seconds: None\n",
      "processed fstring3.c in 6.0230 seconds: None\n",
      "processed boflow4_f.c in 6.1568 seconds: None\n",
      "processed boflow2.c in 6.1122 seconds: None\n",
      "processed complex1_f.c in 6.2301 seconds: None\n",
      "processed boflow5.c in 6.2207 seconds: None\n",
      "processed complex4.c in 6.2480 seconds: None\n",
      "processed fstring2.c in 6.1511 seconds: None\n",
      "processed boflow6_f.c in 6.3091 seconds: None\n",
      "processed boflow1.c in 6.1684 seconds: None\n",
      "processed fstring4.c in 6.0985 seconds: None\n",
      "processed boflow3_f.c in 6.1609 seconds: None\n",
      "processed complex3.c in 6.2360 seconds: None\n",
      "processed complex2.c in 6.2048 seconds: None\n",
      "processed boflow7.c in 6.1844 seconds: None\n",
      "scanning /home/a_prufrock/vuln_progs_and_patches/buggy_and_patched/patched_codes/, run 2\n",
      "processed fstring1_f.c in 6.0806 seconds: None\n",
      "processed fstring3.c in 6.3643 seconds: None\n",
      "processed boflow4_f.c in 6.1534 seconds: None\n",
      "processed boflow2.c in 6.2557 seconds: None\n",
      "processed complex1_f.c in 6.0179 seconds: None\n",
      "processed boflow5.c in 5.9305 seconds: None\n",
      "processed complex4.c in 6.1278 seconds: None\n",
      "processed fstring2.c in 6.1886 seconds: None\n",
      "processed boflow6_f.c in 6.1747 seconds: None\n",
      "processed boflow1.c in 6.1440 seconds: None\n",
      "processed fstring4.c in 6.1667 seconds: None\n",
      "processed boflow3_f.c in 6.0384 seconds: None\n",
      "processed complex3.c in 6.0935 seconds: None\n",
      "processed complex2.c in 6.2094 seconds: None\n",
      "processed boflow7.c in 6.1033 seconds: None\n",
      "scanning /home/a_prufrock/vuln_progs_and_patches/buggy_and_patched/patched_codes/, run 3\n",
      "processed fstring1_f.c in 6.1753 seconds: None\n",
      "processed fstring3.c in 6.0685 seconds: None\n",
      "processed boflow4_f.c in 6.1409 seconds: None\n",
      "processed boflow2.c in 6.0097 seconds: None\n",
      "processed complex1_f.c in 6.0464 seconds: None\n",
      "processed boflow5.c in 6.0507 seconds: None\n",
      "processed complex4.c in 6.2717 seconds: None\n",
      "processed fstring2.c in 6.1550 seconds: None\n",
      "processed boflow6_f.c in 6.2261 seconds: None\n",
      "processed boflow1.c in 6.1590 seconds: None\n",
      "processed fstring4.c in 6.1461 seconds: None\n",
      "processed boflow3_f.c in 6.3404 seconds: None\n",
      "processed complex3.c in 6.1345 seconds: None\n",
      "processed complex2.c in 5.9930 seconds: None\n",
      "processed boflow7.c in 6.1538 seconds: None\n",
      "scanning /home/a_prufrock/vuln_progs_and_patches/buggy_and_patched/patched_codes/, run 4\n",
      "processed fstring1_f.c in 6.3820 seconds: None\n",
      "processed fstring3.c in 6.1609 seconds: None\n",
      "processed boflow4_f.c in 6.2472 seconds: None\n",
      "processed boflow2.c in 6.2692 seconds: None\n",
      "processed complex1_f.c in 6.0610 seconds: None\n",
      "processed boflow5.c in 6.1815 seconds: None\n",
      "processed complex4.c in 6.2926 seconds: None\n",
      "processed fstring2.c in 6.2068 seconds: None\n",
      "processed boflow6_f.c in 6.2206 seconds: None\n",
      "processed boflow1.c in 5.9859 seconds: None\n",
      "processed fstring4.c in 6.2975 seconds: None\n",
      "processed boflow3_f.c in 6.2671 seconds: None\n",
      "processed complex3.c in 6.3360 seconds: None\n",
      "processed complex2.c in 6.1916 seconds: None\n",
      "processed boflow7.c in 6.3149 seconds: None\n",
      "scanning /home/a_prufrock/vuln_progs_and_patches/buggy_and_patched/patched_codes/, run 5\n",
      "processed fstring1_f.c in 5.9879 seconds: None\n",
      "processed fstring3.c in 6.3083 seconds: None\n",
      "processed boflow4_f.c in 6.2294 seconds: None\n",
      "processed boflow2.c in 6.1265 seconds: None\n",
      "processed complex1_f.c in 6.0402 seconds: None\n",
      "processed boflow5.c in 6.1535 seconds: None\n",
      "processed complex4.c in 6.2558 seconds: None\n",
      "processed fstring2.c in 6.2948 seconds: None\n",
      "processed boflow6_f.c in 6.0999 seconds: None\n",
      "processed boflow1.c in 6.2781 seconds: None\n",
      "processed fstring4.c in 6.0362 seconds: None\n",
      "processed boflow3_f.c in 6.1040 seconds: None\n",
      "processed complex3.c in 6.2339 seconds: None\n",
      "processed complex2.c in 6.1319 seconds: None\n",
      "processed boflow7.c in 6.1770 seconds: None\n",
      "scanning /home/a_prufrock/vuln_progs_and_patches/buggy_and_patched/patched_codes/, run 6\n",
      "processed fstring1_f.c in 8.5059 seconds: None\n",
      "processed fstring3.c in 8.7214 seconds: None\n",
      "processed boflow4_f.c in 8.3612 seconds: None\n",
      "processed boflow2.c in 8.3399 seconds: None\n",
      "processed complex1_f.c in 8.5705 seconds: None\n",
      "processed boflow5.c in 8.6641 seconds: None\n",
      "processed complex4.c in 8.4202 seconds: None\n",
      "processed fstring2.c in 8.4821 seconds: None\n",
      "processed boflow6_f.c in 8.8597 seconds: Result: 3.0 : Unchecked read/recv/malloc: boflow6_f.c:52:main\n",
      "processed boflow1.c in 8.6802 seconds: None\n",
      "more than one result found!\n",
      "result_line = Result: 3.0 : Unchecked read/recv/malloc: fstring4.c:30:main\n",
      "line = Result: 3.0 : Unchecked read/recv/malloc: fstring4.c:33:main\n",
      "more than one result found!\n",
      "result_line = Result: 3.0 : Unchecked read/recv/malloc: fstring4.c:30:main\n",
      "line = Result: 3.0 : Unchecked read/recv/malloc: fstring4.c:36:main\n",
      "processed fstring4.c in 8.6451 seconds: Result: 3.0 : Unchecked read/recv/malloc: fstring4.c:30:main\n",
      "processed boflow3_f.c in 8.4924 seconds: None\n",
      "processed complex3.c in 8.6051 seconds: None\n",
      "processed complex2.c in 8.5239 seconds: None\n",
      "processed boflow7.c in 8.5842 seconds: None\n",
      "scanning /home/a_prufrock/vuln_progs_and_patches/buggy_and_patched/patched_codes/, run 7\n",
      "processed fstring1_f.c in 8.6450 seconds: None\n",
      "processed fstring3.c in 8.7511 seconds: None\n",
      "processed boflow4_f.c in 8.4027 seconds: None\n",
      "processed boflow2.c in 8.2105 seconds: None\n",
      "processed complex1_f.c in 8.2221 seconds: None\n",
      "processed boflow5.c in 8.5621 seconds: None\n",
      "processed complex4.c in 8.5908 seconds: None\n",
      "processed fstring2.c in 8.5754 seconds: None\n",
      "processed boflow6_f.c in 8.4264 seconds: Result: 3.0 : Unchecked read/recv/malloc: boflow6_f.c:52:main\n",
      "processed boflow1.c in 8.2428 seconds: None\n",
      "more than one result found!\n",
      "result_line = Result: 3.0 : Unchecked read/recv/malloc: fstring4.c:30:main\n",
      "line = Result: 3.0 : Unchecked read/recv/malloc: fstring4.c:33:main\n",
      "more than one result found!\n",
      "result_line = Result: 3.0 : Unchecked read/recv/malloc: fstring4.c:30:main\n",
      "line = Result: 3.0 : Unchecked read/recv/malloc: fstring4.c:36:main\n",
      "processed fstring4.c in 8.7023 seconds: Result: 3.0 : Unchecked read/recv/malloc: fstring4.c:30:main\n",
      "processed boflow3_f.c in 8.6472 seconds: None\n",
      "processed complex3.c in 8.3427 seconds: None\n",
      "processed complex2.c in 8.6031 seconds: None\n",
      "processed boflow7.c in 8.7650 seconds: None\n",
      "scanning /home/a_prufrock/vuln_progs_and_patches/buggy_and_patched/patched_codes/, run 8\n",
      "processed fstring1_f.c in 8.5926 seconds: None\n",
      "processed fstring3.c in 8.7438 seconds: None\n",
      "processed boflow4_f.c in 8.5148 seconds: None\n",
      "processed boflow2.c in 8.5506 seconds: None\n",
      "processed complex1_f.c in 8.4672 seconds: None\n",
      "processed boflow5.c in 8.5444 seconds: None\n",
      "processed complex4.c in 8.6983 seconds: None\n",
      "processed fstring2.c in 8.6268 seconds: None\n",
      "processed boflow6_f.c in 8.6007 seconds: Result: 3.0 : Unchecked read/recv/malloc: boflow6_f.c:52:main\n",
      "processed boflow1.c in 8.4729 seconds: None\n",
      "more than one result found!\n",
      "result_line = Result: 3.0 : Unchecked read/recv/malloc: fstring4.c:30:main\n",
      "line = Result: 3.0 : Unchecked read/recv/malloc: fstring4.c:33:main\n",
      "more than one result found!\n",
      "result_line = Result: 3.0 : Unchecked read/recv/malloc: fstring4.c:30:main\n",
      "line = Result: 3.0 : Unchecked read/recv/malloc: fstring4.c:36:main\n",
      "processed fstring4.c in 8.7627 seconds: Result: 3.0 : Unchecked read/recv/malloc: fstring4.c:30:main\n",
      "processed boflow3_f.c in 8.4827 seconds: None\n",
      "processed complex3.c in 8.4769 seconds: None\n",
      "processed complex2.c in 8.4118 seconds: None\n",
      "processed boflow7.c in 8.3796 seconds: None\n",
      "scanning /home/a_prufrock/vuln_progs_and_patches/buggy_and_patched/patched_codes/, run 9\n",
      "processed fstring1_f.c in 8.5516 seconds: None\n",
      "processed fstring3.c in 8.6175 seconds: None\n",
      "processed boflow4_f.c in 8.3234 seconds: None\n",
      "processed boflow2.c in 8.3897 seconds: None\n",
      "processed complex1_f.c in 8.5011 seconds: None\n",
      "processed boflow5.c in 8.3592 seconds: None\n",
      "processed complex4.c in 8.6018 seconds: None\n",
      "processed fstring2.c in 8.7282 seconds: None\n",
      "processed boflow6_f.c in 8.6933 seconds: Result: 3.0 : Unchecked read/recv/malloc: boflow6_f.c:52:main\n",
      "processed boflow1.c in 8.3941 seconds: None\n",
      "more than one result found!\n",
      "result_line = Result: 3.0 : Unchecked read/recv/malloc: fstring4.c:30:main\n",
      "line = Result: 3.0 : Unchecked read/recv/malloc: fstring4.c:33:main\n",
      "more than one result found!\n",
      "result_line = Result: 3.0 : Unchecked read/recv/malloc: fstring4.c:30:main\n",
      "line = Result: 3.0 : Unchecked read/recv/malloc: fstring4.c:36:main\n",
      "processed fstring4.c in 8.7107 seconds: Result: 3.0 : Unchecked read/recv/malloc: fstring4.c:30:main\n",
      "processed boflow3_f.c in 8.5534 seconds: None\n",
      "processed complex3.c in 8.5063 seconds: None\n",
      "processed complex2.c in 8.5830 seconds: None\n",
      "processed boflow7.c in 8.6380 seconds: None\n"
     ]
    }
   ],
   "source": [
    "all_results = []\n",
    "\n",
    "for directory in [code_vuln_path, code_fixd_path]:\n",
    "    \n",
    "    for run in range(1, 10):\n",
    "        print(f'scanning {directory}, run {run}')\n",
    "        flag = True if run > 5 else False\n",
    "        scan_result = run_joern_scan(directory, overwrite=flag)\n",
    "\n",
    "        df = pd.DataFrame.from_dict(scan_result, orient='index')\n",
    "        df['filename'] = df.index\n",
    "        df['directory'] = directory\n",
    "        df['run'] = run\n",
    "        df['overwrite'] = flag\n",
    "        all_results.append(df)"
   ]
  },
  {
   "cell_type": "code",
   "execution_count": 38,
   "id": "0f5d4d19-fcec-434a-8f59-47d50257b3a2",
   "metadata": {},
   "outputs": [],
   "source": [
    "df_all = pd.concat(all_results, ignore_index=True)"
   ]
  },
  {
   "cell_type": "code",
   "execution_count": 39,
   "id": "69c282c1-1313-4c67-85b8-7e071c6c3617",
   "metadata": {},
   "outputs": [
    {
     "data": {
      "text/html": [
       "<div>\n",
       "<style scoped>\n",
       "    .dataframe tbody tr th:only-of-type {\n",
       "        vertical-align: middle;\n",
       "    }\n",
       "\n",
       "    .dataframe tbody tr th {\n",
       "        vertical-align: top;\n",
       "    }\n",
       "\n",
       "    .dataframe thead th {\n",
       "        text-align: right;\n",
       "    }\n",
       "</style>\n",
       "<table border=\"1\" class=\"dataframe\">\n",
       "  <thead>\n",
       "    <tr style=\"text-align: right;\">\n",
       "      <th></th>\n",
       "      <th>result:</th>\n",
       "      <th>execution_time</th>\n",
       "      <th>filename</th>\n",
       "      <th>directory</th>\n",
       "      <th>run</th>\n",
       "      <th>overwrite</th>\n",
       "    </tr>\n",
       "  </thead>\n",
       "  <tbody>\n",
       "    <tr>\n",
       "      <th>0</th>\n",
       "      <td>Result: 4.0 : Non-constant format string passe...</td>\n",
       "      <td>8.465496</td>\n",
       "      <td>fstring1_f.c</td>\n",
       "      <td>/home/a_prufrock/vuln_progs_and_patches/buggy_...</td>\n",
       "      <td>1</td>\n",
       "      <td>False</td>\n",
       "    </tr>\n",
       "    <tr>\n",
       "      <th>1</th>\n",
       "      <td>Result: 4.0 : Non-constant format string passe...</td>\n",
       "      <td>8.736459</td>\n",
       "      <td>fstring3.c</td>\n",
       "      <td>/home/a_prufrock/vuln_progs_and_patches/buggy_...</td>\n",
       "      <td>1</td>\n",
       "      <td>False</td>\n",
       "    </tr>\n",
       "    <tr>\n",
       "      <th>2</th>\n",
       "      <td>None</td>\n",
       "      <td>8.715246</td>\n",
       "      <td>boflow4_f.c</td>\n",
       "      <td>/home/a_prufrock/vuln_progs_and_patches/buggy_...</td>\n",
       "      <td>1</td>\n",
       "      <td>False</td>\n",
       "    </tr>\n",
       "    <tr>\n",
       "      <th>3</th>\n",
       "      <td>Result: 8.0 : Dangerous function gets() used: ...</td>\n",
       "      <td>6.601688</td>\n",
       "      <td>boflow2.c</td>\n",
       "      <td>/home/a_prufrock/vuln_progs_and_patches/buggy_...</td>\n",
       "      <td>1</td>\n",
       "      <td>False</td>\n",
       "    </tr>\n",
       "    <tr>\n",
       "      <th>4</th>\n",
       "      <td>Result: 4.0 : Non-constant format string passe...</td>\n",
       "      <td>8.620320</td>\n",
       "      <td>complex1_f.c</td>\n",
       "      <td>/home/a_prufrock/vuln_progs_and_patches/buggy_...</td>\n",
       "      <td>1</td>\n",
       "      <td>False</td>\n",
       "    </tr>\n",
       "    <tr>\n",
       "      <th>...</th>\n",
       "      <td>...</td>\n",
       "      <td>...</td>\n",
       "      <td>...</td>\n",
       "      <td>...</td>\n",
       "      <td>...</td>\n",
       "      <td>...</td>\n",
       "    </tr>\n",
       "    <tr>\n",
       "      <th>265</th>\n",
       "      <td>Result: 3.0 : Unchecked read/recv/malloc: fstr...</td>\n",
       "      <td>8.710734</td>\n",
       "      <td>fstring4.c</td>\n",
       "      <td>/home/a_prufrock/vuln_progs_and_patches/buggy_...</td>\n",
       "      <td>9</td>\n",
       "      <td>True</td>\n",
       "    </tr>\n",
       "    <tr>\n",
       "      <th>266</th>\n",
       "      <td>None</td>\n",
       "      <td>8.553428</td>\n",
       "      <td>boflow3_f.c</td>\n",
       "      <td>/home/a_prufrock/vuln_progs_and_patches/buggy_...</td>\n",
       "      <td>9</td>\n",
       "      <td>True</td>\n",
       "    </tr>\n",
       "    <tr>\n",
       "      <th>267</th>\n",
       "      <td>None</td>\n",
       "      <td>8.506269</td>\n",
       "      <td>complex3.c</td>\n",
       "      <td>/home/a_prufrock/vuln_progs_and_patches/buggy_...</td>\n",
       "      <td>9</td>\n",
       "      <td>True</td>\n",
       "    </tr>\n",
       "    <tr>\n",
       "      <th>268</th>\n",
       "      <td>None</td>\n",
       "      <td>8.582959</td>\n",
       "      <td>complex2.c</td>\n",
       "      <td>/home/a_prufrock/vuln_progs_and_patches/buggy_...</td>\n",
       "      <td>9</td>\n",
       "      <td>True</td>\n",
       "    </tr>\n",
       "    <tr>\n",
       "      <th>269</th>\n",
       "      <td>None</td>\n",
       "      <td>8.637952</td>\n",
       "      <td>boflow7.c</td>\n",
       "      <td>/home/a_prufrock/vuln_progs_and_patches/buggy_...</td>\n",
       "      <td>9</td>\n",
       "      <td>True</td>\n",
       "    </tr>\n",
       "  </tbody>\n",
       "</table>\n",
       "<p>270 rows × 6 columns</p>\n",
       "</div>"
      ],
      "text/plain": [
       "                                               result:  execution_time  \\\n",
       "0    Result: 4.0 : Non-constant format string passe...        8.465496   \n",
       "1    Result: 4.0 : Non-constant format string passe...        8.736459   \n",
       "2                                                 None        8.715246   \n",
       "3    Result: 8.0 : Dangerous function gets() used: ...        6.601688   \n",
       "4    Result: 4.0 : Non-constant format string passe...        8.620320   \n",
       "..                                                 ...             ...   \n",
       "265  Result: 3.0 : Unchecked read/recv/malloc: fstr...        8.710734   \n",
       "266                                               None        8.553428   \n",
       "267                                               None        8.506269   \n",
       "268                                               None        8.582959   \n",
       "269                                               None        8.637952   \n",
       "\n",
       "         filename                                          directory  run  \\\n",
       "0    fstring1_f.c  /home/a_prufrock/vuln_progs_and_patches/buggy_...    1   \n",
       "1      fstring3.c  /home/a_prufrock/vuln_progs_and_patches/buggy_...    1   \n",
       "2     boflow4_f.c  /home/a_prufrock/vuln_progs_and_patches/buggy_...    1   \n",
       "3       boflow2.c  /home/a_prufrock/vuln_progs_and_patches/buggy_...    1   \n",
       "4    complex1_f.c  /home/a_prufrock/vuln_progs_and_patches/buggy_...    1   \n",
       "..            ...                                                ...  ...   \n",
       "265    fstring4.c  /home/a_prufrock/vuln_progs_and_patches/buggy_...    9   \n",
       "266   boflow3_f.c  /home/a_prufrock/vuln_progs_and_patches/buggy_...    9   \n",
       "267    complex3.c  /home/a_prufrock/vuln_progs_and_patches/buggy_...    9   \n",
       "268    complex2.c  /home/a_prufrock/vuln_progs_and_patches/buggy_...    9   \n",
       "269     boflow7.c  /home/a_prufrock/vuln_progs_and_patches/buggy_...    9   \n",
       "\n",
       "     overwrite  \n",
       "0        False  \n",
       "1        False  \n",
       "2        False  \n",
       "3        False  \n",
       "4        False  \n",
       "..         ...  \n",
       "265       True  \n",
       "266       True  \n",
       "267       True  \n",
       "268       True  \n",
       "269       True  \n",
       "\n",
       "[270 rows x 6 columns]"
      ]
     },
     "execution_count": 39,
     "metadata": {},
     "output_type": "execute_result"
    }
   ],
   "source": [
    "df_all"
   ]
  },
  {
   "cell_type": "code",
   "execution_count": 47,
   "id": "06035775-273a-4b8a-a633-bca219aa10f0",
   "metadata": {},
   "outputs": [
    {
     "name": "stdout",
     "output_type": "stream",
     "text": [
      "<class 'pandas.core.frame.DataFrame'>\n",
      "RangeIndex: 270 entries, 0 to 269\n",
      "Data columns (total 6 columns):\n",
      " #   Column          Non-Null Count  Dtype  \n",
      "---  ------          --------------  -----  \n",
      " 0   result:         116 non-null    object \n",
      " 1   execution_time  270 non-null    float64\n",
      " 2   filename        270 non-null    object \n",
      " 3   directory       270 non-null    object \n",
      " 4   run             270 non-null    int64  \n",
      " 5   overwrite       270 non-null    bool   \n",
      "dtypes: bool(1), float64(1), int64(1), object(3)\n",
      "memory usage: 10.9+ KB\n"
     ]
    }
   ],
   "source": [
    "df_all.info()"
   ]
  },
  {
   "cell_type": "code",
   "execution_count": 46,
   "id": "e8b6d3c8-f072-4559-b010-d1bd1b30f50a",
   "metadata": {},
   "outputs": [
    {
     "data": {
      "text/html": [
       "<div>\n",
       "<style scoped>\n",
       "    .dataframe tbody tr th:only-of-type {\n",
       "        vertical-align: middle;\n",
       "    }\n",
       "\n",
       "    .dataframe tbody tr th {\n",
       "        vertical-align: top;\n",
       "    }\n",
       "\n",
       "    .dataframe thead th {\n",
       "        text-align: right;\n",
       "    }\n",
       "</style>\n",
       "<table border=\"1\" class=\"dataframe\">\n",
       "  <thead>\n",
       "    <tr style=\"text-align: right;\">\n",
       "      <th></th>\n",
       "      <th>execution_time</th>\n",
       "      <th>run</th>\n",
       "    </tr>\n",
       "  </thead>\n",
       "  <tbody>\n",
       "    <tr>\n",
       "      <th>count</th>\n",
       "      <td>270.000000</td>\n",
       "      <td>270.000000</td>\n",
       "    </tr>\n",
       "    <tr>\n",
       "      <th>mean</th>\n",
       "      <td>7.448155</td>\n",
       "      <td>5.000000</td>\n",
       "    </tr>\n",
       "    <tr>\n",
       "      <th>std</th>\n",
       "      <td>1.095147</td>\n",
       "      <td>2.586784</td>\n",
       "    </tr>\n",
       "    <tr>\n",
       "      <th>min</th>\n",
       "      <td>5.930501</td>\n",
       "      <td>1.000000</td>\n",
       "    </tr>\n",
       "    <tr>\n",
       "      <th>25%</th>\n",
       "      <td>6.300210</td>\n",
       "      <td>3.000000</td>\n",
       "    </tr>\n",
       "    <tr>\n",
       "      <th>50%</th>\n",
       "      <td>6.887924</td>\n",
       "      <td>5.000000</td>\n",
       "    </tr>\n",
       "    <tr>\n",
       "      <th>75%</th>\n",
       "      <td>8.549046</td>\n",
       "      <td>7.000000</td>\n",
       "    </tr>\n",
       "    <tr>\n",
       "      <th>max</th>\n",
       "      <td>8.859655</td>\n",
       "      <td>9.000000</td>\n",
       "    </tr>\n",
       "  </tbody>\n",
       "</table>\n",
       "</div>"
      ],
      "text/plain": [
       "       execution_time         run\n",
       "count      270.000000  270.000000\n",
       "mean         7.448155    5.000000\n",
       "std          1.095147    2.586784\n",
       "min          5.930501    1.000000\n",
       "25%          6.300210    3.000000\n",
       "50%          6.887924    5.000000\n",
       "75%          8.549046    7.000000\n",
       "max          8.859655    9.000000"
      ]
     },
     "execution_count": 46,
     "metadata": {},
     "output_type": "execute_result"
    }
   ],
   "source": [
    "df_all.describe()"
   ]
  },
  {
   "cell_type": "markdown",
   "id": "722b32ee-2f7a-4704-9e10-018ad41bb1b4",
   "metadata": {},
   "source": [
    "## Saving and loading dataframe to csv file between sessions."
   ]
  },
  {
   "cell_type": "code",
   "execution_count": 48,
   "id": "900d90e8-c14b-4c9c-b1e2-6aafe63870c3",
   "metadata": {},
   "outputs": [],
   "source": [
    "df_all.to_csv('all_results1.csv')"
   ]
  },
  {
   "cell_type": "code",
   "execution_count": 2,
   "id": "3ac22f70-0bcb-4bde-b815-270edcf1210c",
   "metadata": {},
   "outputs": [],
   "source": [
    "df_all = pd.read_csv('all_results1.csv')"
   ]
  },
  {
   "cell_type": "code",
   "execution_count": 3,
   "id": "1ea7fe8d-4f16-44f0-b84f-485e1e19b83d",
   "metadata": {},
   "outputs": [],
   "source": [
    "# function labels runs based on initialization, cached, or regenerated CPG\n",
    "def label_run(run):\n",
    "    if run == 1:\n",
    "        return 'Initialization'\n",
    "    elif 2 <= run <= 5:\n",
    "        return 'Cached'\n",
    "    elif 6 <= run <= 9:\n",
    "        return 'Generated'"
   ]
  },
  {
   "cell_type": "markdown",
   "id": "774cc7e9-545b-43b7-bbda-4e0ad76a5718",
   "metadata": {},
   "source": [
    "## Copy dataframe before transformations"
   ]
  },
  {
   "cell_type": "code",
   "execution_count": 4,
   "id": "a3035369-b951-4756-9aeb-60a7250e6f7c",
   "metadata": {},
   "outputs": [],
   "source": [
    "df_filt = df_all.copy()"
   ]
  },
  {
   "cell_type": "code",
   "execution_count": 5,
   "id": "a812eca7-4861-47cb-baee-5299755acfe1",
   "metadata": {},
   "outputs": [
    {
     "name": "stdout",
     "output_type": "stream",
     "text": [
      "cpg\n",
      "Cached            120\n",
      "Generated         120\n",
      "Initialization     30\n",
      "Name: count, dtype: int64\n"
     ]
    }
   ],
   "source": [
    "df_filt['cpg'] = df_filt['run'].apply(label_run)\n",
    "print(df_filt['cpg'].value_counts())"
   ]
  },
  {
   "cell_type": "code",
   "execution_count": 6,
   "id": "fe1c7dc6-0539-4408-bee7-e3f3595da325",
   "metadata": {},
   "outputs": [],
   "source": [
    "# shorten filename to remove path\n",
    "df_filt['directory'] = df_filt['directory'].apply(lambda x: os.path.basename(x.rstrip('/\\\\')))\n"
   ]
  },
  {
   "cell_type": "code",
   "execution_count": 7,
   "id": "1ef247bb-bf8f-4ebb-a09a-6fcca850bd67",
   "metadata": {},
   "outputs": [
    {
     "name": "stdout",
     "output_type": "stream",
     "text": [
      "                              count      mean       std       min       25%  \\\n",
      "directory     cpg                                                             \n",
      "codebase      Cached           60.0  6.664577  0.110585  6.411382  6.588896   \n",
      "              Generated        60.0  8.521584  0.138584  8.232416  8.434889   \n",
      "              Initialization   15.0  8.307609  0.698466  6.601688  8.365076   \n",
      "patched_codes Cached           60.0  6.166533  0.104997  5.930501  6.098273   \n",
      "              Generated        60.0  8.543704  0.144255  8.210491  8.457013   \n",
      "              Initialization   15.0  6.173600  0.072091  6.022955  6.131661   \n",
      "\n",
      "                                   50%       75%       max  \n",
      "directory     cpg                                           \n",
      "codebase      Cached          6.667828  6.726849  6.900943  \n",
      "              Generated       8.519154  8.635503  8.778645  \n",
      "              Initialization  8.585591  8.667286  8.835847  \n",
      "patched_codes Cached          6.159950  6.249363  6.382040  \n",
      "              Generated       8.557753  8.645058  8.859655  \n",
      "              Initialization  6.168413  6.225359  6.309087  \n"
     ]
    }
   ],
   "source": [
    "group_summary = df_filt.groupby(['directory', 'cpg'])['execution_time'].describe()\n",
    "print(group_summary)"
   ]
  },
  {
   "cell_type": "code",
   "execution_count": 8,
   "id": "3d424463-dff6-42fb-b583-b6a88b8831d0",
   "metadata": {},
   "outputs": [
    {
     "data": {
      "image/png": "[encoded data removed]",
      "text/plain": [
       "<Figure size 1000x600 with 1 Axes>"
      ]
     },
     "metadata": {},
     "output_type": "display_data"
    }
   ],
   "source": [
    "plt.figure(figsize=(10, 6))\n",
    "sns.boxplot(x='directory', y='execution_time', hue='cpg', data=df_filt)\n",
    "plt.title('Execution Time by Directory and CPG')\n",
    "plt.xlabel('Directory')\n",
    "plt.ylabel('Execution Time (seconds)')\n",
    "plt.legend(title='Run Group')\n",
    "plt.show()"
   ]
  },
  {
   "cell_type": "markdown",
   "id": "b760e4ec-094e-42fb-b443-05909a3f6d70",
   "metadata": {},
   "source": [
    "## Function to parse the vulnerability detection output\n",
    "and create column for each segment"
   ]
  },
  {
   "cell_type": "code",
   "execution_count": 9,
   "id": "7aa93908-1c49-429e-8ed5-d6d09b4f684a",
   "metadata": {},
   "outputs": [
    {
     "name": "stdout",
     "output_type": "stream",
     "text": [
      "   Unnamed: 0                                            result:  \\\n",
      "0           0  Result: 4.0 : Non-constant format string passe...   \n",
      "1           1  Result: 4.0 : Non-constant format string passe...   \n",
      "2           2                                                NaN   \n",
      "3           3  Result: 8.0 : Dangerous function gets() used: ...   \n",
      "4           4  Result: 4.0 : Non-constant format string passe...   \n",
      "\n",
      "   execution_time      filename directory  run  overwrite             cpg  \\\n",
      "0        8.465496  fstring1_f.c  codebase    1      False  Initialization   \n",
      "1        8.736459    fstring3.c  codebase    1      False  Initialization   \n",
      "2        8.715246          None  codebase    1      False  Initialization   \n",
      "3        6.601688     boflow2.c  codebase    1      False  Initialization   \n",
      "4        8.620320  complex1_f.c  codebase    1      False  Initialization   \n",
      "\n",
      "  severity                                               type  line  \\\n",
      "0      4.0  Non-constant format string passed to printf/sp...    24   \n",
      "1      4.0  Non-constant format string passed to printf/sp...    37   \n",
      "2     None                                               None  None   \n",
      "3      8.0                     Dangerous function gets() used     8   \n",
      "4      4.0  Non-constant format string passed to printf/sp...    24   \n",
      "\n",
      "          caller  \n",
      "0           main  \n",
      "1  open_whatever  \n",
      "2           None  \n",
      "3           main  \n",
      "4           main  \n"
     ]
    }
   ],
   "source": [
    "def parse_result_line(result_line):\n",
    "    \"\"\"\n",
    "    Given a result line like:\n",
    "    \"Result: 3.0 : Unchecked read/recv/malloc: fstring4.c:36:main\"\n",
    "    \n",
    "    This function returns a tuple with:\n",
    "    (severity, type, filename, line, caller)\n",
    "    \n",
    "    If the format is unexpected, returns a tuple of Nones.\n",
    "    \"\"\"\n",
    "    if not isinstance(result_line, str) or not result_line.startswith(\"Result:\"):\n",
    "        return (None, None, None, None, None)\n",
    "    \n",
    "    # Remove the \"Result:\" prefix and strip whitespace\n",
    "    trimmed = result_line[len(\"Result:\"):].strip()\n",
    "    # Split on colons and strip each part\n",
    "    parts = [part.strip() for part in trimmed.split(':')]\n",
    "    \n",
    "    # Check if we have at least 5 parts\n",
    "    if len(parts) < 5:\n",
    "        return (None, None, None, None, None)\n",
    "    \n",
    "    severity = parts[0]\n",
    "    type_str = parts[1]\n",
    "    filename = parts[2]\n",
    "    line_number = parts[3]\n",
    "    caller = parts[4]\n",
    "    \n",
    "    return (severity, type_str, filename, line_number, caller)\n",
    "\n",
    "df_filt[['severity', 'type', 'filename', 'line', 'caller']] = df_filt['result:'].apply(\n",
    "    lambda x: pd.Series(parse_result_line(x))\n",
    ")\n",
    "\n",
    "print(df_filt.head())\n"
   ]
  },
  {
   "cell_type": "markdown",
   "id": "2b4ee44d-cd01-4756-9a00-d8692bb5ca56",
   "metadata": {},
   "source": [
    "# Draft data exploration and analysis continues.\n",
    "Continue at your own risk. Quality of code and notes not guaranteed."
   ]
  },
  {
   "cell_type": "code",
   "execution_count": 10,
   "id": "c3ffdb7f-c97d-4780-a257-b727c529894c",
   "metadata": {},
   "outputs": [
    {
     "name": "stdout",
     "output_type": "stream",
     "text": [
      "['Non-constant format string passed to printf/sprintf/vsprintf' None\n",
      " 'Dangerous function gets() used' 'Unchecked read/recv/malloc']\n"
     ]
    }
   ],
   "source": [
    "unique_types = df_filt['type'].unique()\n",
    "print(unique_types)"
   ]
  },
  {
   "cell_type": "code",
   "execution_count": 11,
   "id": "9bb3f7a1-55d2-46c0-9a2b-d0a919de7118",
   "metadata": {},
   "outputs": [
    {
     "name": "stdout",
     "output_type": "stream",
     "text": [
      "cpg             type                                                        \n",
      "Cached          Non-constant format string passed to printf/sprintf/vsprintf    28\n",
      "                Dangerous function gets() used                                  12\n",
      "                Unchecked read/recv/malloc                                       8\n",
      "Generated       Non-constant format string passed to printf/sprintf/vsprintf    28\n",
      "                Unchecked read/recv/malloc                                      16\n",
      "                Dangerous function gets() used                                  12\n",
      "Initialization  Non-constant format string passed to printf/sprintf/vsprintf     7\n",
      "                Dangerous function gets() used                                   3\n",
      "                Unchecked read/recv/malloc                                       2\n",
      "Name: count, dtype: int64\n"
     ]
    }
   ],
   "source": [
    "group_counts = df_filt.groupby('cpg')['type'].value_counts()\n",
    "\n",
    "print(group_counts)"
   ]
  },
  {
   "cell_type": "code",
   "execution_count": 12,
   "id": "87d08d90-a606-467d-a3d0-16abddd77459",
   "metadata": {},
   "outputs": [
    {
     "name": "stdout",
     "output_type": "stream",
     "text": [
      "run  type                                                        \n",
      "1    Non-constant format string passed to printf/sprintf/vsprintf    7\n",
      "     Dangerous function gets() used                                  3\n",
      "     Unchecked read/recv/malloc                                      2\n",
      "2    Non-constant format string passed to printf/sprintf/vsprintf    7\n",
      "     Dangerous function gets() used                                  3\n",
      "     Unchecked read/recv/malloc                                      2\n",
      "3    Non-constant format string passed to printf/sprintf/vsprintf    7\n",
      "     Dangerous function gets() used                                  3\n",
      "     Unchecked read/recv/malloc                                      2\n",
      "4    Non-constant format string passed to printf/sprintf/vsprintf    7\n",
      "     Dangerous function gets() used                                  3\n",
      "     Unchecked read/recv/malloc                                      2\n",
      "5    Non-constant format string passed to printf/sprintf/vsprintf    7\n",
      "     Dangerous function gets() used                                  3\n",
      "     Unchecked read/recv/malloc                                      2\n",
      "6    Non-constant format string passed to printf/sprintf/vsprintf    7\n",
      "     Unchecked read/recv/malloc                                      4\n",
      "     Dangerous function gets() used                                  3\n",
      "7    Non-constant format string passed to printf/sprintf/vsprintf    7\n",
      "     Unchecked read/recv/malloc                                      4\n",
      "     Dangerous function gets() used                                  3\n",
      "8    Non-constant format string passed to printf/sprintf/vsprintf    7\n",
      "     Unchecked read/recv/malloc                                      4\n",
      "     Dangerous function gets() used                                  3\n",
      "9    Non-constant format string passed to printf/sprintf/vsprintf    7\n",
      "     Unchecked read/recv/malloc                                      4\n",
      "     Dangerous function gets() used                                  3\n",
      "Name: count, dtype: int64\n"
     ]
    }
   ],
   "source": [
    "counts_by_run = df_filt.groupby('run')['type'].value_counts()\n",
    "\n",
    "print(counts_by_run)"
   ]
  },
  {
   "cell_type": "code",
   "execution_count": 13,
   "id": "3634435d-d8f3-4722-9787-12402ab7de7e",
   "metadata": {},
   "outputs": [
    {
     "data": {
      "image/png": "[encoded data removed]",
      "text/plain": [
       "<Figure size 1200x800 with 1 Axes>"
      ]
     },
     "metadata": {},
     "output_type": "display_data"
    }
   ],
   "source": [
    "counts_df = df_filt.groupby('run')['type'].value_counts().unstack(fill_value=0)\n",
    "\n",
    "# Create a stacked bar chart\n",
    "counts_df.plot(kind='bar', stacked=True, figsize=(12, 8))\n",
    "\n",
    "plt.title(\"Counts of Each 'Type' by Run\")\n",
    "plt.xlabel(\"Run\")\n",
    "plt.ylabel(\"Count\")\n",
    "plt.legend(title=\"Type\", bbox_to_anchor=(1.05, 1), loc='upper left')\n",
    "plt.tight_layout()\n",
    "plt.show()"
   ]
  },
  {
   "cell_type": "code",
   "execution_count": 14,
   "id": "23c9ccda-ba4b-4f68-9bc3-a6caa6ae95b7",
   "metadata": {},
   "outputs": [
    {
     "data": {
      "image/png": "[encoded data removed]",
      "text/plain": [
       "<Figure size 1000x600 with 1 Axes>"
      ]
     },
     "metadata": {},
     "output_type": "display_data"
    },
    {
     "data": {
      "image/png": "[encoded data removed]",
      "text/plain": [
       "<Figure size 1000x600 with 1 Axes>"
      ]
     },
     "metadata": {},
     "output_type": "display_data"
    }
   ],
   "source": [
    "# Get unique directories\n",
    "directories = df_filt['directory'].unique()\n",
    "\n",
    "for d in directories:\n",
    "    # Filter the DataFrame for the current directory\n",
    "    df_sub = df_filt[df_filt['directory'] == d]\n",
    "    \n",
    "    # Group by 'run' and count the unique values in 'type'\n",
    "    counts_df = df_sub.groupby('run')['type'].value_counts().unstack(fill_value=0)\n",
    "    \n",
    "    # Plot a stacked bar chart for this directory\n",
    "    ax = counts_df.plot(kind='bar', stacked=True, figsize=(10, 6))\n",
    "    ax.set_title(f\"Counts of Each 'Type' by Run for Directory: {d}\")\n",
    "    ax.set_xlabel(\"Run\")\n",
    "    ax.set_ylabel(\"Count\")\n",
    "    plt.legend(title=\"Type\", bbox_to_anchor=(1.05, 1), loc='upper left')\n",
    "    plt.tight_layout()\n",
    "    plt.show()"
   ]
  },
  {
   "cell_type": "code",
   "execution_count": 15,
   "id": "daf92fcb-1053-41fb-9a7d-4fc8fc5a3a23",
   "metadata": {},
   "outputs": [
    {
     "name": "stdout",
     "output_type": "stream",
     "text": [
      "boflow1.c: ['Dangerous function gets() used']\n",
      "boflow2.c: ['Dangerous function gets() used']\n",
      "boflow3_f.c: ['Dangerous function gets() used']\n",
      "boflow6_f.c: ['Unchecked read/recv/malloc']\n",
      "complex1_f.c: ['Non-constant format string passed to printf/sprintf/vsprintf']\n",
      "complex2.c: ['Non-constant format string passed to printf/sprintf/vsprintf']\n",
      "complex3.c: ['Non-constant format string passed to printf/sprintf/vsprintf']\n",
      "complex4.c: ['Non-constant format string passed to printf/sprintf/vsprintf']\n",
      "fstring1_f.c: ['Non-constant format string passed to printf/sprintf/vsprintf']\n",
      "fstring2.c: ['Non-constant format string passed to printf/sprintf/vsprintf']\n",
      "fstring3.c: ['Non-constant format string passed to printf/sprintf/vsprintf']\n",
      "fstring4.c: ['Unchecked read/recv/malloc']\n"
     ]
    }
   ],
   "source": [
    "for filename, group in df_filt.groupby('filename'):\n",
    "    unique_types = group['type'].unique()\n",
    "    print(f\"{filename}: {unique_types}\")"
   ]
  },
  {
   "cell_type": "code",
   "execution_count": 16,
   "id": "678648fd-3017-4be8-bbb3-07c0caeeac12",
   "metadata": {},
   "outputs": [
    {
     "name": "stdout",
     "output_type": "stream",
     "text": [
      "None\n"
     ]
    }
   ],
   "source": [
    "filenames_with_none = df_filt[df_filt['type'].isnull()]['filename'].unique()\n",
    "\n",
    "# Print each filename\n",
    "for filename in filenames_with_none:\n",
    "    print(filename)"
   ]
  },
  {
   "cell_type": "code",
   "execution_count": 17,
   "id": "16a82ad4-445e-4ed0-8147-dc2f87e9db8c",
   "metadata": {},
   "outputs": [],
   "source": [
    "for (directory, filename), group in df_filt.groupby(['directory', 'filename']):\n",
    "    # Count unique 'type' values while considering NaNs as a unique value.\n",
    "    if group['type'].nunique(dropna=False) > 1:\n",
    "        unique_types = group['type'].unique()\n",
    "        print(f\"Directory: {directory} | File: {filename} has multiple type values: {unique_types}\")\n"
   ]
  },
  {
   "cell_type": "code",
   "execution_count": 20,
   "id": "a9b0083b-3321-4814-9899-261fb17c2a78",
   "metadata": {},
   "outputs": [
    {
     "name": "stdout",
     "output_type": "stream",
     "text": [
      "cpg\n",
      "Cached             769.866564\n",
      "Generated         1023.917286\n",
      "Initialization     217.218129\n",
      "Name: execution_time, dtype: float64\n"
     ]
    }
   ],
   "source": [
    "time_elapsed_group = df_filt.groupby('cpg')['execution_time'].sum()\n",
    "print(time_elapsed_group)"
   ]
  },
  {
   "cell_type": "code",
   "execution_count": 22,
   "id": "c1c7e54c-6098-48e6-9abf-0150bb6814a0",
   "metadata": {},
   "outputs": [
    {
     "name": "stdout",
     "output_type": "stream",
     "text": [
      "run                      1           2           3           4           5  \\\n",
      "cpg                                                                          \n",
      "Cached            0.000000  192.037001  191.969954  193.289855  192.569754   \n",
      "Generated         0.000000    0.000000    0.000000    0.000000    0.000000   \n",
      "Initialization  217.218129    0.000000    0.000000    0.000000    0.000000   \n",
      "\n",
      "run                      6           7           8           9  \n",
      "cpg                                                             \n",
      "Cached            0.000000    0.000000    0.000000    0.000000  \n",
      "Generated       255.935532  256.250654  256.362522  255.368579  \n",
      "Initialization    0.000000    0.000000    0.000000    0.000000  \n"
     ]
    }
   ],
   "source": [
    "time_elapsed_run = df_filt.groupby(['cpg', 'run'])['execution_time'].sum().unstack(fill_value=0)\n",
    "print(time_elapsed_run)"
   ]
  },
  {
   "cell_type": "code",
   "execution_count": 27,
   "id": "34a13491-cdb1-44eb-9d86-20fb9d8eae9b",
   "metadata": {},
   "outputs": [],
   "source": [
    "def run_joern_scan_tag(directory, overwrite=False):\n",
    "    results = {}\n",
    "    call_scan = ['joern-scan']\n",
    "    # force joern-scan to generate a new cpg\n",
    "    if overwrite:\n",
    "        call_scan.append('--overwrite')\n",
    "\n",
    "    for filename in os.listdir(directory):\n",
    "        filepath = os.path.join(directory, filename)\n",
    "\n",
    "        if os.path.isfile(filepath):\n",
    "\n",
    "            time_start = time.perf_counter()\n",
    "            try:\n",
    "                process = subprocess.run(\n",
    "                    call_scan + [filepath, '--tags', 'badfn'],\n",
    "                    stdout=subprocess.PIPE,\n",
    "                    stderr=subprocess.PIPE,\n",
    "                    text=True\n",
    "                )\n",
    "\n",
    "                time_end = time.perf_counter()\n",
    "                time_elapsed = time_end - time_start\n",
    "\n",
    "                output = process.stdout + process.stderr\n",
    "                result_line = None\n",
    "                for line in output.splitlines():\n",
    "                    if line.startswith(\"Result:\"):\n",
    "                        if result_line != None: # lookout for multiple 'result_line's\n",
    "                            print(\"more than one result found!\")\n",
    "                            print(f'result_line = {result_line}')\n",
    "                            print(f'line = {line}')\n",
    "                        else:\n",
    "                            result_line = line\n",
    "\n",
    "                results[filename] = {\n",
    "                    'result:': result_line,\n",
    "                    'execution_time': time_elapsed\n",
    "                }\n",
    "\n",
    "                print(f'processed {filename} in {time_elapsed:.4f} seconds: {result_line}')\n",
    "\n",
    "            except Exception as e:\n",
    "                print(f'error processing {filename}: {e}')\n",
    "                results[filename] = {\n",
    "                    'result': None,\n",
    "                    'execution-time': None,\n",
    "                    'error': str(e)\n",
    "                }\n",
    "    return results"
   ]
  },
  {
   "cell_type": "code",
   "execution_count": 28,
   "id": "a4dcaa00-7017-42bc-852a-94edd1a85a49",
   "metadata": {},
   "outputs": [
    {
     "name": "stdout",
     "output_type": "stream",
     "text": [
      "scanning /home/a_prufrock/vuln_progs_and_patches/buggy_and_patched/codebase/, run 1\n",
      "processed fstring1_f.c in 6.6422 seconds: Result: 4.0 : Non-constant format string passed to printf/sprintf/vsprintf: fstring1_f.c:24:main\n",
      "processed fstring3.c in 6.6806 seconds: Result: 4.0 : Non-constant format string passed to printf/sprintf/vsprintf: fstring3.c:37:open_whatever\n",
      "processed boflow4_f.c in 6.4642 seconds: None\n",
      "processed boflow2.c in 6.6152 seconds: Result: 8.0 : Dangerous function gets() used: boflow2.c:8:main\n",
      "processed complex1_f.c in 6.7241 seconds: Result: 4.0 : Non-constant format string passed to printf/sprintf/vsprintf: complex1_f.c:24:main\n",
      "processed boflow5.c in 6.6107 seconds: None\n",
      "processed complex4.c in 6.6016 seconds: Result: 4.0 : Non-constant format string passed to printf/sprintf/vsprintf: complex4.c:24:processData\n",
      "processed fstring2.c in 6.6978 seconds: Result: 4.0 : Non-constant format string passed to printf/sprintf/vsprintf: fstring2.c:18:read_file\n",
      "processed boflow6_f.c in 6.6711 seconds: Result: 3.0 : Unchecked read/recv/malloc: boflow6_f.c:47:main\n",
      "processed boflow1.c in 6.5597 seconds: Result: 8.0 : Dangerous function gets() used: boflow1.c:8:get_input\n",
      "more than one result found!\n",
      "result_line = Result: 3.0 : Unchecked read/recv/malloc: fstring4.c:28:main\n",
      "line = Result: 3.0 : Unchecked read/recv/malloc: fstring4.c:31:main\n",
      "more than one result found!\n",
      "result_line = Result: 3.0 : Unchecked read/recv/malloc: fstring4.c:28:main\n",
      "line = Result: 3.0 : Unchecked read/recv/malloc: fstring4.c:34:main\n",
      "more than one result found!\n",
      "result_line = Result: 3.0 : Unchecked read/recv/malloc: fstring4.c:28:main\n",
      "line = Result: 4.0 : Non-constant format string passed to printf/sprintf/vsprintf: fstring4.c:19:welcome_user\n",
      "processed fstring4.c in 6.7126 seconds: Result: 3.0 : Unchecked read/recv/malloc: fstring4.c:28:main\n",
      "processed boflow3_f.c in 6.7391 seconds: Result: 8.0 : Dangerous function gets() used: boflow3_f.c:24:main\n",
      "processed complex3.c in 6.7300 seconds: Result: 4.0 : Non-constant format string passed to printf/sprintf/vsprintf: complex3.c:10:main\n",
      "processed complex2.c in 6.5884 seconds: Result: 4.0 : Non-constant format string passed to printf/sprintf/vsprintf: complex2.c:10:main\n",
      "processed boflow7.c in 6.7948 seconds: None\n",
      "scanning /home/a_prufrock/vuln_progs_and_patches/buggy_and_patched/codebase/, run 2\n",
      "processed fstring1_f.c in 6.7088 seconds: Result: 4.0 : Non-constant format string passed to printf/sprintf/vsprintf: fstring1_f.c:24:main\n",
      "processed fstring3.c in 6.6691 seconds: Result: 4.0 : Non-constant format string passed to printf/sprintf/vsprintf: fstring3.c:37:open_whatever\n",
      "processed boflow4_f.c in 6.6149 seconds: None\n",
      "processed boflow2.c in 6.7715 seconds: Result: 8.0 : Dangerous function gets() used: boflow2.c:8:main\n",
      "processed complex1_f.c in 6.5915 seconds: Result: 4.0 : Non-constant format string passed to printf/sprintf/vsprintf: complex1_f.c:24:main\n",
      "processed boflow5.c in 6.6509 seconds: None\n",
      "processed complex4.c in 6.4995 seconds: Result: 4.0 : Non-constant format string passed to printf/sprintf/vsprintf: complex4.c:24:processData\n",
      "processed fstring2.c in 6.5810 seconds: Result: 4.0 : Non-constant format string passed to printf/sprintf/vsprintf: fstring2.c:18:read_file\n",
      "processed boflow6_f.c in 6.5886 seconds: Result: 3.0 : Unchecked read/recv/malloc: boflow6_f.c:47:main\n",
      "processed boflow1.c in 6.5844 seconds: Result: 8.0 : Dangerous function gets() used: boflow1.c:8:get_input\n"
     ]
    },
    {
     "ename": "KeyboardInterrupt",
     "evalue": "",
     "output_type": "error",
     "traceback": [
      "\u001b[0;31m---------------------------------------------------------------------------\u001b[0m",
      "\u001b[0;31mKeyboardInterrupt\u001b[0m                         Traceback (most recent call last)",
      "Cell \u001b[0;32mIn[28], line 8\u001b[0m\n\u001b[1;32m      6\u001b[0m \u001b[38;5;28mprint\u001b[39m(\u001b[38;5;124mf\u001b[39m\u001b[38;5;124m'\u001b[39m\u001b[38;5;124mscanning \u001b[39m\u001b[38;5;132;01m{\u001b[39;00mdirectory\u001b[38;5;132;01m}\u001b[39;00m\u001b[38;5;124m, run \u001b[39m\u001b[38;5;132;01m{\u001b[39;00mrun\u001b[38;5;132;01m}\u001b[39;00m\u001b[38;5;124m'\u001b[39m)\n\u001b[1;32m      7\u001b[0m flag \u001b[38;5;241m=\u001b[39m \u001b[38;5;28;01mTrue\u001b[39;00m \u001b[38;5;28;01mif\u001b[39;00m run \u001b[38;5;241m>\u001b[39m \u001b[38;5;241m5\u001b[39m \u001b[38;5;28;01melse\u001b[39;00m \u001b[38;5;28;01mFalse\u001b[39;00m\n\u001b[0;32m----> 8\u001b[0m scan_result \u001b[38;5;241m=\u001b[39m \u001b[43mrun_joern_scan_tag\u001b[49m\u001b[43m(\u001b[49m\u001b[43mdirectory\u001b[49m\u001b[43m,\u001b[49m\u001b[43m \u001b[49m\u001b[43moverwrite\u001b[49m\u001b[38;5;241;43m=\u001b[39;49m\u001b[43mflag\u001b[49m\u001b[43m)\u001b[49m\n\u001b[1;32m     10\u001b[0m df \u001b[38;5;241m=\u001b[39m pd\u001b[38;5;241m.\u001b[39mDataFrame\u001b[38;5;241m.\u001b[39mfrom_dict(scan_result, orient\u001b[38;5;241m=\u001b[39m\u001b[38;5;124m'\u001b[39m\u001b[38;5;124mindex\u001b[39m\u001b[38;5;124m'\u001b[39m)\n\u001b[1;32m     11\u001b[0m df[\u001b[38;5;124m'\u001b[39m\u001b[38;5;124mfilename\u001b[39m\u001b[38;5;124m'\u001b[39m] \u001b[38;5;241m=\u001b[39m df\u001b[38;5;241m.\u001b[39mindex\n",
      "Cell \u001b[0;32mIn[27], line 15\u001b[0m, in \u001b[0;36mrun_joern_scan_tag\u001b[0;34m(directory, overwrite)\u001b[0m\n\u001b[1;32m     13\u001b[0m time_start \u001b[38;5;241m=\u001b[39m time\u001b[38;5;241m.\u001b[39mperf_counter()\n\u001b[1;32m     14\u001b[0m \u001b[38;5;28;01mtry\u001b[39;00m:\n\u001b[0;32m---> 15\u001b[0m     process \u001b[38;5;241m=\u001b[39m \u001b[43msubprocess\u001b[49m\u001b[38;5;241;43m.\u001b[39;49m\u001b[43mrun\u001b[49m\u001b[43m(\u001b[49m\n\u001b[1;32m     16\u001b[0m \u001b[43m        \u001b[49m\u001b[43mcall_scan\u001b[49m\u001b[43m \u001b[49m\u001b[38;5;241;43m+\u001b[39;49m\u001b[43m \u001b[49m\u001b[43m[\u001b[49m\u001b[43mfilepath\u001b[49m\u001b[43m,\u001b[49m\u001b[43m \u001b[49m\u001b[38;5;124;43m'\u001b[39;49m\u001b[38;5;124;43m--tags\u001b[39;49m\u001b[38;5;124;43m'\u001b[39;49m\u001b[43m,\u001b[49m\u001b[43m \u001b[49m\u001b[38;5;124;43m'\u001b[39;49m\u001b[38;5;124;43mbadfn\u001b[39;49m\u001b[38;5;124;43m'\u001b[39;49m\u001b[43m]\u001b[49m\u001b[43m,\u001b[49m\n\u001b[1;32m     17\u001b[0m \u001b[43m        \u001b[49m\u001b[43mstdout\u001b[49m\u001b[38;5;241;43m=\u001b[39;49m\u001b[43msubprocess\u001b[49m\u001b[38;5;241;43m.\u001b[39;49m\u001b[43mPIPE\u001b[49m\u001b[43m,\u001b[49m\n\u001b[1;32m     18\u001b[0m \u001b[43m        \u001b[49m\u001b[43mstderr\u001b[49m\u001b[38;5;241;43m=\u001b[39;49m\u001b[43msubprocess\u001b[49m\u001b[38;5;241;43m.\u001b[39;49m\u001b[43mPIPE\u001b[49m\u001b[43m,\u001b[49m\n\u001b[1;32m     19\u001b[0m \u001b[43m        \u001b[49m\u001b[43mtext\u001b[49m\u001b[38;5;241;43m=\u001b[39;49m\u001b[38;5;28;43;01mTrue\u001b[39;49;00m\n\u001b[1;32m     20\u001b[0m \u001b[43m    \u001b[49m\u001b[43m)\u001b[49m\n\u001b[1;32m     22\u001b[0m     time_end \u001b[38;5;241m=\u001b[39m time\u001b[38;5;241m.\u001b[39mperf_counter()\n\u001b[1;32m     23\u001b[0m     time_elapsed \u001b[38;5;241m=\u001b[39m time_end \u001b[38;5;241m-\u001b[39m time_start\n",
      "File \u001b[0;32m/usr/lib/python3.8/subprocess.py:495\u001b[0m, in \u001b[0;36mrun\u001b[0;34m(input, capture_output, timeout, check, *popenargs, **kwargs)\u001b[0m\n\u001b[1;32m    493\u001b[0m \u001b[38;5;28;01mwith\u001b[39;00m Popen(\u001b[38;5;241m*\u001b[39mpopenargs, \u001b[38;5;241m*\u001b[39m\u001b[38;5;241m*\u001b[39mkwargs) \u001b[38;5;28;01mas\u001b[39;00m process:\n\u001b[1;32m    494\u001b[0m     \u001b[38;5;28;01mtry\u001b[39;00m:\n\u001b[0;32m--> 495\u001b[0m         stdout, stderr \u001b[38;5;241m=\u001b[39m \u001b[43mprocess\u001b[49m\u001b[38;5;241;43m.\u001b[39;49m\u001b[43mcommunicate\u001b[49m\u001b[43m(\u001b[49m\u001b[38;5;28;43minput\u001b[39;49m\u001b[43m,\u001b[49m\u001b[43m \u001b[49m\u001b[43mtimeout\u001b[49m\u001b[38;5;241;43m=\u001b[39;49m\u001b[43mtimeout\u001b[49m\u001b[43m)\u001b[49m\n\u001b[1;32m    496\u001b[0m     \u001b[38;5;28;01mexcept\u001b[39;00m TimeoutExpired \u001b[38;5;28;01mas\u001b[39;00m exc:\n\u001b[1;32m    497\u001b[0m         process\u001b[38;5;241m.\u001b[39mkill()\n",
      "File \u001b[0;32m/usr/lib/python3.8/subprocess.py:1028\u001b[0m, in \u001b[0;36mPopen.communicate\u001b[0;34m(self, input, timeout)\u001b[0m\n\u001b[1;32m   1025\u001b[0m     endtime \u001b[38;5;241m=\u001b[39m \u001b[38;5;28;01mNone\u001b[39;00m\n\u001b[1;32m   1027\u001b[0m \u001b[38;5;28;01mtry\u001b[39;00m:\n\u001b[0;32m-> 1028\u001b[0m     stdout, stderr \u001b[38;5;241m=\u001b[39m \u001b[38;5;28;43mself\u001b[39;49m\u001b[38;5;241;43m.\u001b[39;49m\u001b[43m_communicate\u001b[49m\u001b[43m(\u001b[49m\u001b[38;5;28;43minput\u001b[39;49m\u001b[43m,\u001b[49m\u001b[43m \u001b[49m\u001b[43mendtime\u001b[49m\u001b[43m,\u001b[49m\u001b[43m \u001b[49m\u001b[43mtimeout\u001b[49m\u001b[43m)\u001b[49m\n\u001b[1;32m   1029\u001b[0m \u001b[38;5;28;01mexcept\u001b[39;00m \u001b[38;5;167;01mKeyboardInterrupt\u001b[39;00m:\n\u001b[1;32m   1030\u001b[0m     \u001b[38;5;66;03m# https://bugs.python.org/issue25942\u001b[39;00m\n\u001b[1;32m   1031\u001b[0m     \u001b[38;5;66;03m# See the detailed comment in .wait().\u001b[39;00m\n\u001b[1;32m   1032\u001b[0m     \u001b[38;5;28;01mif\u001b[39;00m timeout \u001b[38;5;129;01mis\u001b[39;00m \u001b[38;5;129;01mnot\u001b[39;00m \u001b[38;5;28;01mNone\u001b[39;00m:\n",
      "File \u001b[0;32m/usr/lib/python3.8/subprocess.py:1868\u001b[0m, in \u001b[0;36mPopen._communicate\u001b[0;34m(self, input, endtime, orig_timeout)\u001b[0m\n\u001b[1;32m   1861\u001b[0m     \u001b[38;5;28mself\u001b[39m\u001b[38;5;241m.\u001b[39m_check_timeout(endtime, orig_timeout,\n\u001b[1;32m   1862\u001b[0m                         stdout, stderr,\n\u001b[1;32m   1863\u001b[0m                         skip_check_and_raise\u001b[38;5;241m=\u001b[39m\u001b[38;5;28;01mTrue\u001b[39;00m)\n\u001b[1;32m   1864\u001b[0m     \u001b[38;5;28;01mraise\u001b[39;00m \u001b[38;5;167;01mRuntimeError\u001b[39;00m(  \u001b[38;5;66;03m# Impossible :)\u001b[39;00m\n\u001b[1;32m   1865\u001b[0m         \u001b[38;5;124m'\u001b[39m\u001b[38;5;124m_check_timeout(..., skip_check_and_raise=True) \u001b[39m\u001b[38;5;124m'\u001b[39m\n\u001b[1;32m   1866\u001b[0m         \u001b[38;5;124m'\u001b[39m\u001b[38;5;124mfailed to raise TimeoutExpired.\u001b[39m\u001b[38;5;124m'\u001b[39m)\n\u001b[0;32m-> 1868\u001b[0m ready \u001b[38;5;241m=\u001b[39m \u001b[43mselector\u001b[49m\u001b[38;5;241;43m.\u001b[39;49m\u001b[43mselect\u001b[49m\u001b[43m(\u001b[49m\u001b[43mtimeout\u001b[49m\u001b[43m)\u001b[49m\n\u001b[1;32m   1869\u001b[0m \u001b[38;5;28mself\u001b[39m\u001b[38;5;241m.\u001b[39m_check_timeout(endtime, orig_timeout, stdout, stderr)\n\u001b[1;32m   1871\u001b[0m \u001b[38;5;66;03m# XXX Rewrite these to use non-blocking I/O on the file\u001b[39;00m\n\u001b[1;32m   1872\u001b[0m \u001b[38;5;66;03m# objects; they are no longer using C stdio!\u001b[39;00m\n",
      "File \u001b[0;32m/usr/lib/python3.8/selectors.py:415\u001b[0m, in \u001b[0;36m_PollLikeSelector.select\u001b[0;34m(self, timeout)\u001b[0m\n\u001b[1;32m    413\u001b[0m ready \u001b[38;5;241m=\u001b[39m []\n\u001b[1;32m    414\u001b[0m \u001b[38;5;28;01mtry\u001b[39;00m:\n\u001b[0;32m--> 415\u001b[0m     fd_event_list \u001b[38;5;241m=\u001b[39m \u001b[38;5;28;43mself\u001b[39;49m\u001b[38;5;241;43m.\u001b[39;49m\u001b[43m_selector\u001b[49m\u001b[38;5;241;43m.\u001b[39;49m\u001b[43mpoll\u001b[49m\u001b[43m(\u001b[49m\u001b[43mtimeout\u001b[49m\u001b[43m)\u001b[49m\n\u001b[1;32m    416\u001b[0m \u001b[38;5;28;01mexcept\u001b[39;00m \u001b[38;5;167;01mInterruptedError\u001b[39;00m:\n\u001b[1;32m    417\u001b[0m     \u001b[38;5;28;01mreturn\u001b[39;00m ready\n",
      "\u001b[0;31mKeyboardInterrupt\u001b[0m: "
     ]
    }
   ],
   "source": [
    "all_results = []\n",
    "\n",
    "for directory in [code_vuln_path, code_fixd_path]:\n",
    "    \n",
    "    for run in range(1, 10):\n",
    "        print(f'scanning {directory}, run {run}')\n",
    "        flag = True if run > 5 else False\n",
    "        scan_result = run_joern_scan_tag(directory, overwrite=flag)\n",
    "\n",
    "        df = pd.DataFrame.from_dict(scan_result, orient='index')\n",
    "        df['filename'] = df.index\n",
    "        df['directory'] = directory\n",
    "        df['run'] = run\n",
    "        df['overwrite'] = flag\n",
    "        all_results.append(df)"
   ]
  },
  {
   "cell_type": "markdown",
   "id": "34dec0eb-aef1-45db-8d03-fb42060b1d5b",
   "metadata": {},
   "source": [
    "# Test 2 - no Result: problem *fixed on test 3 magically*\n",
    "When running joern-scan on previously scanned files, the vulnerability is either not detected, or the Result is not being returned/printed."
   ]
  },
  {
   "cell_type": "code",
   "execution_count": 19,
   "id": "58124175-9209-4727-a976-87465cfbb648",
   "metadata": {},
   "outputs": [
    {
     "name": "stdout",
     "output_type": "stream",
     "text": [
      "processed boflow2.c in 6.2202 seconds: None\n",
      "processed boflow1.c in 6.0251 seconds: None\n"
     ]
    }
   ],
   "source": [
    "results_test1 = run_joern_scan(code_test_path, overwrite=False)"
   ]
  },
  {
   "cell_type": "code",
   "execution_count": 20,
   "id": "98132ef5-af0a-45e3-9563-b7055cc2b127",
   "metadata": {},
   "outputs": [
    {
     "name": "stdout",
     "output_type": "stream",
     "text": [
      "processed boflow2.c in 8.5434 seconds: Result: 8.0 : Dangerous function gets() used: boflow2.c:8:main\n",
      "processed boflow1.c in 8.4681 seconds: Result: 8.0 : Dangerous function gets() used: boflow1.c:8:get_input\n"
     ]
    }
   ],
   "source": [
    "results_test2 = run_joern_scan(code_test_path, overwrite=True)"
   ]
  },
  {
   "cell_type": "code",
   "execution_count": 25,
   "id": "eaaccf12-5628-4d36-ad25-7623dc24eb66",
   "metadata": {},
   "outputs": [
    {
     "name": "stdout",
     "output_type": "stream",
     "text": [
      "processed boflow2.c in 6.4647 seconds: Result: 8.0 : Dangerous function gets() used: boflow2.c:8:main\n",
      "processed boflow1.c in 6.6304 seconds: Result: 8.0 : Dangerous function gets() used: boflow1.c:8:get_input\n"
     ]
    }
   ],
   "source": [
    "results_test3 = run_joern_scan(code_test_path, overwrite=False)"
   ]
  },
  {
   "cell_type": "code",
   "execution_count": 24,
   "id": "786eac4a-0189-43c3-8ca4-a579faf5025c",
   "metadata": {},
   "outputs": [
    {
     "name": "stdout",
     "output_type": "stream",
     "text": [
      "{'boflow2.c': {'result:': None, 'execution_time': 6.220168379950337}, 'boflow1.c': {'result:': None, 'execution_time': 6.025086741021369}}\n"
     ]
    }
   ],
   "source": [
    "print(results_test1)"
   ]
  }
 ],
 "metadata": {
  "kernelspec": {
   "display_name": "Python 3 (ipykernel)",
   "language": "python",
   "name": "python3"
  },
  "language_info": {
   "codemirror_mode": {
    "name": "ipython",
    "version": 3
   },
   "file_extension": ".py",
   "mimetype": "text/x-python",
   "name": "python",
   "nbconvert_exporter": "python",
   "pygments_lexer": "ipython3",
   "version": "3.8.10"
  }
 },
 "nbformat": 4,
 "nbformat_minor": 5
}
